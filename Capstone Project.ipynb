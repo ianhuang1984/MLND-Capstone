{
 "cells": [
  {
   "cell_type": "markdown",
   "metadata": {},
   "source": [
    "# Stock Prediction Classfication"
   ]
  },
  {
   "cell_type": "code",
   "execution_count": 1,
   "metadata": {
    "collapsed": true
   },
   "outputs": [],
   "source": [
    "import numpy as np\n",
    "import pandas as pd\n",
    "import quandl\n",
    "quandl.ApiConfig.api_key = \"tMcAQrxVdSPB8yifJGX6\"\n",
    "import talib as ta\n",
    "import cPickle as pickle\n",
    "import matplotlib.pyplot as plt\n",
    "\n",
    "from sklearn import preprocessing\n",
    "from datetime import datetime\n",
    "from sklearn.ensemble import RandomForestClassifier\n",
    "from sklearn import svm\n",
    "from sklearn.model_selection import GridSearchCV \n",
    "from sklearn.model_selection import RandomizedSearchCV\n",
    "\n",
    "from sklearn import neighbors\n",
    "from sklearn import linear_model\n",
    "from sklearn.naive_bayes import GaussianNB\n",
    "from sklearn.ensemble import AdaBoostClassifier\n",
    "from sklearn.ensemble import GradientBoostingClassifier\n",
    "from sklearn.discriminant_analysis import QuadraticDiscriminantAnalysis"
   ]
  },
  {
   "cell_type": "markdown",
   "metadata": {},
   "source": [
    "## Get stock info from Quandl"
   ]
  },
  {
   "cell_type": "code",
   "execution_count": 2,
   "metadata": {
    "collapsed": true
   },
   "outputs": [],
   "source": [
    "def getStockFromQuandlRaw(symbol, start, end):\n",
    "    # Downloads Stock from Quandl.\n",
    "    # Computes daily Returns based on Adj Close.\n",
    "    # Returns pandas dataframe.\n",
    "    dataframe =  quandl.get('WIKI/%s'%symbol, trim_start = start, trim_end = end, authtoken = quandl.ApiConfig.api_key)\n",
    "    # Token = personal authrization.\n",
    "    return dataframe"
   ]
  },
  {
   "cell_type": "code",
   "execution_count": 3,
   "metadata": {
    "collapsed": true
   },
   "outputs": [],
   "source": [
    "symbol = \"AAPL\"\n",
    "start = \"20120101\"\n",
    "end = \"20161231\"\n",
    "start_test = \"20160601\"\n",
    "index = \"Adj. Low\""
   ]
  },
  {
   "cell_type": "code",
   "execution_count": 4,
   "metadata": {},
   "outputs": [
    {
     "data": {
      "text/html": [
       "<div>\n",
       "<table border=\"1\" class=\"dataframe\">\n",
       "  <thead>\n",
       "    <tr style=\"text-align: right;\">\n",
       "      <th></th>\n",
       "      <th>Open</th>\n",
       "      <th>High</th>\n",
       "      <th>Low</th>\n",
       "      <th>Close</th>\n",
       "      <th>Volume</th>\n",
       "      <th>Ex-Dividend</th>\n",
       "      <th>Split Ratio</th>\n",
       "      <th>Adj. Open</th>\n",
       "      <th>Adj. High</th>\n",
       "      <th>Adj. Low</th>\n",
       "      <th>Adj. Close</th>\n",
       "      <th>Adj. Volume</th>\n",
       "    </tr>\n",
       "    <tr>\n",
       "      <th>Date</th>\n",
       "      <th></th>\n",
       "      <th></th>\n",
       "      <th></th>\n",
       "      <th></th>\n",
       "      <th></th>\n",
       "      <th></th>\n",
       "      <th></th>\n",
       "      <th></th>\n",
       "      <th></th>\n",
       "      <th></th>\n",
       "      <th></th>\n",
       "      <th></th>\n",
       "    </tr>\n",
       "  </thead>\n",
       "  <tbody>\n",
       "    <tr>\n",
       "      <th>2012-01-03</th>\n",
       "      <td>409.4000</td>\n",
       "      <td>412.50</td>\n",
       "      <td>409.00</td>\n",
       "      <td>411.23</td>\n",
       "      <td>10793600.0</td>\n",
       "      <td>0.0</td>\n",
       "      <td>1.0</td>\n",
       "      <td>52.613606</td>\n",
       "      <td>53.011999</td>\n",
       "      <td>52.562200</td>\n",
       "      <td>52.848787</td>\n",
       "      <td>75555200.0</td>\n",
       "    </tr>\n",
       "    <tr>\n",
       "      <th>2012-01-04</th>\n",
       "      <td>410.0000</td>\n",
       "      <td>414.68</td>\n",
       "      <td>409.28</td>\n",
       "      <td>413.44</td>\n",
       "      <td>9286500.0</td>\n",
       "      <td>0.0</td>\n",
       "      <td>1.0</td>\n",
       "      <td>52.690714</td>\n",
       "      <td>53.292160</td>\n",
       "      <td>52.598184</td>\n",
       "      <td>53.132802</td>\n",
       "      <td>65005500.0</td>\n",
       "    </tr>\n",
       "    <tr>\n",
       "      <th>2012-01-05</th>\n",
       "      <td>414.9500</td>\n",
       "      <td>418.55</td>\n",
       "      <td>412.67</td>\n",
       "      <td>418.03</td>\n",
       "      <td>9688200.0</td>\n",
       "      <td>0.0</td>\n",
       "      <td>1.0</td>\n",
       "      <td>53.326858</td>\n",
       "      <td>53.789509</td>\n",
       "      <td>53.033847</td>\n",
       "      <td>53.722681</td>\n",
       "      <td>67817400.0</td>\n",
       "    </tr>\n",
       "    <tr>\n",
       "      <th>2012-01-06</th>\n",
       "      <td>419.7700</td>\n",
       "      <td>422.75</td>\n",
       "      <td>419.22</td>\n",
       "      <td>422.40</td>\n",
       "      <td>11367600.0</td>\n",
       "      <td>0.0</td>\n",
       "      <td>1.0</td>\n",
       "      <td>53.946296</td>\n",
       "      <td>54.329267</td>\n",
       "      <td>53.875613</td>\n",
       "      <td>54.284287</td>\n",
       "      <td>79573200.0</td>\n",
       "    </tr>\n",
       "    <tr>\n",
       "      <th>2012-01-09</th>\n",
       "      <td>425.5001</td>\n",
       "      <td>427.75</td>\n",
       "      <td>421.35</td>\n",
       "      <td>421.73</td>\n",
       "      <td>14072300.0</td>\n",
       "      <td>0.0</td>\n",
       "      <td>1.0</td>\n",
       "      <td>54.682693</td>\n",
       "      <td>54.971837</td>\n",
       "      <td>54.149348</td>\n",
       "      <td>54.198183</td>\n",
       "      <td>98506100.0</td>\n",
       "    </tr>\n",
       "  </tbody>\n",
       "</table>\n",
       "</div>"
      ],
      "text/plain": [
       "                Open    High     Low   Close      Volume  Ex-Dividend  \\\n",
       "Date                                                                    \n",
       "2012-01-03  409.4000  412.50  409.00  411.23  10793600.0          0.0   \n",
       "2012-01-04  410.0000  414.68  409.28  413.44   9286500.0          0.0   \n",
       "2012-01-05  414.9500  418.55  412.67  418.03   9688200.0          0.0   \n",
       "2012-01-06  419.7700  422.75  419.22  422.40  11367600.0          0.0   \n",
       "2012-01-09  425.5001  427.75  421.35  421.73  14072300.0          0.0   \n",
       "\n",
       "            Split Ratio  Adj. Open  Adj. High   Adj. Low  Adj. Close  \\\n",
       "Date                                                                   \n",
       "2012-01-03          1.0  52.613606  53.011999  52.562200   52.848787   \n",
       "2012-01-04          1.0  52.690714  53.292160  52.598184   53.132802   \n",
       "2012-01-05          1.0  53.326858  53.789509  53.033847   53.722681   \n",
       "2012-01-06          1.0  53.946296  54.329267  53.875613   54.284287   \n",
       "2012-01-09          1.0  54.682693  54.971837  54.149348   54.198183   \n",
       "\n",
       "            Adj. Volume  \n",
       "Date                     \n",
       "2012-01-03   75555200.0  \n",
       "2012-01-04   65005500.0  \n",
       "2012-01-05   67817400.0  \n",
       "2012-01-06   79573200.0  \n",
       "2012-01-09   98506100.0  "
      ]
     },
     "execution_count": 4,
     "metadata": {},
     "output_type": "execute_result"
    }
   ],
   "source": [
    "getStockFromQuandlRaw(symbol, start, end).head(n=5)"
   ]
  },
  {
   "cell_type": "code",
   "execution_count": 5,
   "metadata": {},
   "outputs": [
    {
     "data": {
      "text/html": [
       "<div>\n",
       "<table border=\"1\" class=\"dataframe\">\n",
       "  <thead>\n",
       "    <tr style=\"text-align: right;\">\n",
       "      <th></th>\n",
       "      <th>Open</th>\n",
       "      <th>High</th>\n",
       "      <th>Low</th>\n",
       "      <th>Close</th>\n",
       "      <th>Volume</th>\n",
       "      <th>Ex-Dividend</th>\n",
       "      <th>Split Ratio</th>\n",
       "      <th>Adj. Open</th>\n",
       "      <th>Adj. High</th>\n",
       "      <th>Adj. Low</th>\n",
       "      <th>Adj. Close</th>\n",
       "      <th>Adj. Volume</th>\n",
       "    </tr>\n",
       "    <tr>\n",
       "      <th>Date</th>\n",
       "      <th></th>\n",
       "      <th></th>\n",
       "      <th></th>\n",
       "      <th></th>\n",
       "      <th></th>\n",
       "      <th></th>\n",
       "      <th></th>\n",
       "      <th></th>\n",
       "      <th></th>\n",
       "      <th></th>\n",
       "      <th></th>\n",
       "      <th></th>\n",
       "    </tr>\n",
       "  </thead>\n",
       "  <tbody>\n",
       "    <tr>\n",
       "      <th>2016-12-23</th>\n",
       "      <td>115.59</td>\n",
       "      <td>116.5200</td>\n",
       "      <td>115.59</td>\n",
       "      <td>116.52</td>\n",
       "      <td>14249484.0</td>\n",
       "      <td>0.0</td>\n",
       "      <td>1.0</td>\n",
       "      <td>114.162295</td>\n",
       "      <td>115.080808</td>\n",
       "      <td>114.162295</td>\n",
       "      <td>115.080808</td>\n",
       "      <td>14249484.0</td>\n",
       "    </tr>\n",
       "    <tr>\n",
       "      <th>2016-12-27</th>\n",
       "      <td>116.52</td>\n",
       "      <td>117.8000</td>\n",
       "      <td>116.49</td>\n",
       "      <td>117.26</td>\n",
       "      <td>18296855.0</td>\n",
       "      <td>0.0</td>\n",
       "      <td>1.0</td>\n",
       "      <td>115.080808</td>\n",
       "      <td>116.344998</td>\n",
       "      <td>115.051178</td>\n",
       "      <td>115.811668</td>\n",
       "      <td>18296855.0</td>\n",
       "    </tr>\n",
       "    <tr>\n",
       "      <th>2016-12-28</th>\n",
       "      <td>117.52</td>\n",
       "      <td>118.0166</td>\n",
       "      <td>116.20</td>\n",
       "      <td>116.76</td>\n",
       "      <td>20905892.0</td>\n",
       "      <td>0.0</td>\n",
       "      <td>1.0</td>\n",
       "      <td>116.068456</td>\n",
       "      <td>116.558923</td>\n",
       "      <td>114.764760</td>\n",
       "      <td>115.317843</td>\n",
       "      <td>20905892.0</td>\n",
       "    </tr>\n",
       "    <tr>\n",
       "      <th>2016-12-29</th>\n",
       "      <td>116.45</td>\n",
       "      <td>117.1095</td>\n",
       "      <td>116.40</td>\n",
       "      <td>116.73</td>\n",
       "      <td>15039519.0</td>\n",
       "      <td>0.0</td>\n",
       "      <td>1.0</td>\n",
       "      <td>115.011672</td>\n",
       "      <td>115.663027</td>\n",
       "      <td>114.962290</td>\n",
       "      <td>115.288214</td>\n",
       "      <td>15039519.0</td>\n",
       "    </tr>\n",
       "    <tr>\n",
       "      <th>2016-12-30</th>\n",
       "      <td>116.65</td>\n",
       "      <td>117.2000</td>\n",
       "      <td>115.43</td>\n",
       "      <td>115.82</td>\n",
       "      <td>30586265.0</td>\n",
       "      <td>0.0</td>\n",
       "      <td>1.0</td>\n",
       "      <td>115.209202</td>\n",
       "      <td>115.752409</td>\n",
       "      <td>114.004271</td>\n",
       "      <td>114.389454</td>\n",
       "      <td>30586265.0</td>\n",
       "    </tr>\n",
       "  </tbody>\n",
       "</table>\n",
       "</div>"
      ],
      "text/plain": [
       "              Open      High     Low   Close      Volume  Ex-Dividend  \\\n",
       "Date                                                                    \n",
       "2016-12-23  115.59  116.5200  115.59  116.52  14249484.0          0.0   \n",
       "2016-12-27  116.52  117.8000  116.49  117.26  18296855.0          0.0   \n",
       "2016-12-28  117.52  118.0166  116.20  116.76  20905892.0          0.0   \n",
       "2016-12-29  116.45  117.1095  116.40  116.73  15039519.0          0.0   \n",
       "2016-12-30  116.65  117.2000  115.43  115.82  30586265.0          0.0   \n",
       "\n",
       "            Split Ratio   Adj. Open   Adj. High    Adj. Low  Adj. Close  \\\n",
       "Date                                                                      \n",
       "2016-12-23          1.0  114.162295  115.080808  114.162295  115.080808   \n",
       "2016-12-27          1.0  115.080808  116.344998  115.051178  115.811668   \n",
       "2016-12-28          1.0  116.068456  116.558923  114.764760  115.317843   \n",
       "2016-12-29          1.0  115.011672  115.663027  114.962290  115.288214   \n",
       "2016-12-30          1.0  115.209202  115.752409  114.004271  114.389454   \n",
       "\n",
       "            Adj. Volume  \n",
       "Date                     \n",
       "2016-12-23   14249484.0  \n",
       "2016-12-27   18296855.0  \n",
       "2016-12-28   20905892.0  \n",
       "2016-12-29   15039519.0  \n",
       "2016-12-30   30586265.0  "
      ]
     },
     "execution_count": 5,
     "metadata": {},
     "output_type": "execute_result"
    }
   ],
   "source": [
    "getStockFromQuandlRaw(symbol, start, end).tail(n=5)"
   ]
  },
  {
   "cell_type": "code",
   "execution_count": 6,
   "metadata": {
    "collapsed": true
   },
   "outputs": [],
   "source": [
    "def count_missing(dataframe):\n",
    "    \"\"\"\n",
    "    count number of NaN in dataframe\n",
    "    \"\"\"\n",
    "    return (dataframe.shape[0] * dataframe.shape[1]) - sum(dataframe.count())"
   ]
  },
  {
   "cell_type": "markdown",
   "metadata": {},
   "source": [
    "### Check Data Size "
   ]
  },
  {
   "cell_type": "code",
   "execution_count": 8,
   "metadata": {},
   "outputs": [
    {
     "name": "stdout",
     "output_type": "stream",
     "text": [
      "('Size of data frame: ', (1258, 12))\n",
      "('Number of Missing Data: ', 0)\n"
     ]
    }
   ],
   "source": [
    "RawData = getStockFromQuandlRaw(symbol, start, end)\n",
    "print ('Size of data frame: ', RawData.shape)\n",
    "print ('Number of Missing Data: ', count_missing(RawData))"
   ]
  },
  {
   "cell_type": "markdown",
   "metadata": {},
   "source": [
    "### Raw Data Statistical Description "
   ]
  },
  {
   "cell_type": "code",
   "execution_count": 9,
   "metadata": {
    "scrolled": true
   },
   "outputs": [
    {
     "data": {
      "text/html": [
       "<div>\n",
       "<table border=\"1\" class=\"dataframe\">\n",
       "  <thead>\n",
       "    <tr style=\"text-align: right;\">\n",
       "      <th></th>\n",
       "      <th>Open</th>\n",
       "      <th>High</th>\n",
       "      <th>Low</th>\n",
       "      <th>Close</th>\n",
       "      <th>Volume</th>\n",
       "      <th>Ex-Dividend</th>\n",
       "      <th>Split Ratio</th>\n",
       "      <th>Adj. Open</th>\n",
       "      <th>Adj. High</th>\n",
       "      <th>Adj. Low</th>\n",
       "      <th>Adj. Close</th>\n",
       "      <th>Adj. Volume</th>\n",
       "    </tr>\n",
       "  </thead>\n",
       "  <tbody>\n",
       "    <tr>\n",
       "      <th>count</th>\n",
       "      <td>1258.000000</td>\n",
       "      <td>1258.000000</td>\n",
       "      <td>1258.00000</td>\n",
       "      <td>1258.000000</td>\n",
       "      <td>1.258000e+03</td>\n",
       "      <td>1258.000000</td>\n",
       "      <td>1258.000000</td>\n",
       "      <td>1258.000000</td>\n",
       "      <td>1258.000000</td>\n",
       "      <td>1258.000000</td>\n",
       "      <td>1258.000000</td>\n",
       "      <td>1.258000e+03</td>\n",
       "    </tr>\n",
       "    <tr>\n",
       "      <th>mean</th>\n",
       "      <td>313.501630</td>\n",
       "      <td>316.317304</td>\n",
       "      <td>310.32547</td>\n",
       "      <td>313.328844</td>\n",
       "      <td>3.168134e+07</td>\n",
       "      <td>0.022766</td>\n",
       "      <td>1.004769</td>\n",
       "      <td>88.168503</td>\n",
       "      <td>88.955748</td>\n",
       "      <td>87.317829</td>\n",
       "      <td>88.143001</td>\n",
       "      <td>7.730747e+07</td>\n",
       "    </tr>\n",
       "    <tr>\n",
       "      <th>std</th>\n",
       "      <td>215.873479</td>\n",
       "      <td>217.741565</td>\n",
       "      <td>213.58769</td>\n",
       "      <td>215.685229</td>\n",
       "      <td>2.215453e+07</td>\n",
       "      <td>0.237945</td>\n",
       "      <td>0.169165</td>\n",
       "      <td>20.961954</td>\n",
       "      <td>21.107021</td>\n",
       "      <td>20.808053</td>\n",
       "      <td>20.965031</td>\n",
       "      <td>5.062673e+07</td>\n",
       "    </tr>\n",
       "    <tr>\n",
       "      <th>min</th>\n",
       "      <td>90.000000</td>\n",
       "      <td>90.700000</td>\n",
       "      <td>89.47000</td>\n",
       "      <td>90.280000</td>\n",
       "      <td>5.704900e+06</td>\n",
       "      <td>0.000000</td>\n",
       "      <td>1.000000</td>\n",
       "      <td>50.594952</td>\n",
       "      <td>52.111614</td>\n",
       "      <td>50.220677</td>\n",
       "      <td>50.928800</td>\n",
       "      <td>1.147592e+07</td>\n",
       "    </tr>\n",
       "    <tr>\n",
       "      <th>25%</th>\n",
       "      <td>109.742500</td>\n",
       "      <td>110.782500</td>\n",
       "      <td>108.66250</td>\n",
       "      <td>109.607500</td>\n",
       "      <td>1.387215e+07</td>\n",
       "      <td>0.000000</td>\n",
       "      <td>1.000000</td>\n",
       "      <td>70.215720</td>\n",
       "      <td>70.997963</td>\n",
       "      <td>69.654731</td>\n",
       "      <td>70.194775</td>\n",
       "      <td>4.192546e+07</td>\n",
       "    </tr>\n",
       "    <tr>\n",
       "      <th>50%</th>\n",
       "      <td>130.000000</td>\n",
       "      <td>130.795000</td>\n",
       "      <td>128.69250</td>\n",
       "      <td>129.815000</td>\n",
       "      <td>2.697295e+07</td>\n",
       "      <td>0.000000</td>\n",
       "      <td>1.000000</td>\n",
       "      <td>89.162389</td>\n",
       "      <td>89.791406</td>\n",
       "      <td>88.223569</td>\n",
       "      <td>89.182554</td>\n",
       "      <td>6.316127e+07</td>\n",
       "    </tr>\n",
       "    <tr>\n",
       "      <th>75%</th>\n",
       "      <td>527.895000</td>\n",
       "      <td>531.950000</td>\n",
       "      <td>522.36000</td>\n",
       "      <td>527.412500</td>\n",
       "      <td>4.380281e+07</td>\n",
       "      <td>0.000000</td>\n",
       "      <td>1.000000</td>\n",
       "      <td>106.862058</td>\n",
       "      <td>107.777438</td>\n",
       "      <td>105.894247</td>\n",
       "      <td>106.912899</td>\n",
       "      <td>9.738960e+07</td>\n",
       "    </tr>\n",
       "    <tr>\n",
       "      <th>max</th>\n",
       "      <td>702.410000</td>\n",
       "      <td>705.070000</td>\n",
       "      <td>699.57000</td>\n",
       "      <td>702.100000</td>\n",
       "      <td>1.895606e+08</td>\n",
       "      <td>3.290000</td>\n",
       "      <td>7.000000</td>\n",
       "      <td>128.233349</td>\n",
       "      <td>128.314416</td>\n",
       "      <td>125.839962</td>\n",
       "      <td>126.931724</td>\n",
       "      <td>3.765300e+08</td>\n",
       "    </tr>\n",
       "  </tbody>\n",
       "</table>\n",
       "</div>"
      ],
      "text/plain": [
       "              Open         High         Low        Close        Volume  \\\n",
       "count  1258.000000  1258.000000  1258.00000  1258.000000  1.258000e+03   \n",
       "mean    313.501630   316.317304   310.32547   313.328844  3.168134e+07   \n",
       "std     215.873479   217.741565   213.58769   215.685229  2.215453e+07   \n",
       "min      90.000000    90.700000    89.47000    90.280000  5.704900e+06   \n",
       "25%     109.742500   110.782500   108.66250   109.607500  1.387215e+07   \n",
       "50%     130.000000   130.795000   128.69250   129.815000  2.697295e+07   \n",
       "75%     527.895000   531.950000   522.36000   527.412500  4.380281e+07   \n",
       "max     702.410000   705.070000   699.57000   702.100000  1.895606e+08   \n",
       "\n",
       "       Ex-Dividend  Split Ratio    Adj. Open    Adj. High     Adj. Low  \\\n",
       "count  1258.000000  1258.000000  1258.000000  1258.000000  1258.000000   \n",
       "mean      0.022766     1.004769    88.168503    88.955748    87.317829   \n",
       "std       0.237945     0.169165    20.961954    21.107021    20.808053   \n",
       "min       0.000000     1.000000    50.594952    52.111614    50.220677   \n",
       "25%       0.000000     1.000000    70.215720    70.997963    69.654731   \n",
       "50%       0.000000     1.000000    89.162389    89.791406    88.223569   \n",
       "75%       0.000000     1.000000   106.862058   107.777438   105.894247   \n",
       "max       3.290000     7.000000   128.233349   128.314416   125.839962   \n",
       "\n",
       "        Adj. Close   Adj. Volume  \n",
       "count  1258.000000  1.258000e+03  \n",
       "mean     88.143001  7.730747e+07  \n",
       "std      20.965031  5.062673e+07  \n",
       "min      50.928800  1.147592e+07  \n",
       "25%      70.194775  4.192546e+07  \n",
       "50%      89.182554  6.316127e+07  \n",
       "75%     106.912899  9.738960e+07  \n",
       "max     126.931724  3.765300e+08  "
      ]
     },
     "execution_count": 9,
     "metadata": {},
     "output_type": "execute_result"
    }
   ],
   "source": [
    "RawData.describe()"
   ]
  },
  {
   "cell_type": "code",
   "execution_count": 11,
   "metadata": {},
   "outputs": [
    {
     "data": {
      "image/png": "[encoded data removed]",
      "text/plain": [
       "<matplotlib.figure.Figure at 0x10f13d9d0>"
      ]
     },
     "metadata": {},
     "output_type": "display_data"
    }
   ],
   "source": [
    "import matplotlib.pyplot as plt\n",
    "RawData.hist(figsize=(15,15),bins=50) \n",
    "plt.show()"
   ]
  },
  {
   "cell_type": "markdown",
   "metadata": {},
   "source": [
    "# Pre-Processing features"
   ]
  },
  {
   "cell_type": "code",
   "execution_count": 7,
   "metadata": {
    "collapsed": true
   },
   "outputs": [],
   "source": [
    "def getStockFromQuandl(symbol, start, end, index):\n",
    "    \n",
    "    # Downloads Stock from Quandl.\n",
    "    # Computes daily Returns based on Adj Close.\n",
    "    # Returns pandas dataframe.\n",
    "    \n",
    "    df =  quandl.get('WIKI/%s'%symbol, trim_start = start, trim_end = end,   \n",
    "                      authtoken=\"tMcAQrxVdSPB8yifJGX6\")\n",
    "    drop = (df.columns.get_loc(index)) + 1\n",
    "    finance = df.iloc[:, drop:]\n",
    "    # Reserve data after Adj. Low based on Quandl Wiki Data format\"\"\"\n",
    "    finance.columns.values[-2] = 'Close'\n",
    "    finance.columns.values[-1] = 'Volume'\n",
    "    finance.loc[:, 'Return'] = np.log(finance['Close']/finance['Close'].shift())\n",
    "    # Feature Engineering\n",
    "    # Generate Log Transformation Return feature\"\"\"\n",
    "     \n",
    "    finance.loc[:, 'Return_T'] = finance['Return'].shift(-1)\n",
    "    # Shift Return 1-day backward to predict T+1's return as Target Column\"\"\"\n",
    "    return finance"
   ]
  },
  {
   "cell_type": "markdown",
   "metadata": {},
   "source": [
    "### Check Data Size "
   ]
  },
  {
   "cell_type": "code",
   "execution_count": 8,
   "metadata": {},
   "outputs": [
    {
     "name": "stderr",
     "output_type": "stream",
     "text": [
      "/Users/IanHuang/anaconda/lib/python2.7/site-packages/pandas/core/indexing.py:288: SettingWithCopyWarning: \n",
      "A value is trying to be set on a copy of a slice from a DataFrame.\n",
      "Try using .loc[row_indexer,col_indexer] = value instead\n",
      "\n",
      "See the caveats in the documentation: http://pandas.pydata.org/pandas-docs/stable/indexing.html#indexing-view-versus-copy\n",
      "  self.obj[key] = _infer_fill_value(value)\n",
      "/Users/IanHuang/anaconda/lib/python2.7/site-packages/pandas/core/indexing.py:549: SettingWithCopyWarning: \n",
      "A value is trying to be set on a copy of a slice from a DataFrame.\n",
      "Try using .loc[row_indexer,col_indexer] = value instead\n",
      "\n",
      "See the caveats in the documentation: http://pandas.pydata.org/pandas-docs/stable/indexing.html#indexing-view-versus-copy\n",
      "  self.obj[item_labels[indexer[info_axis]]] = value\n"
     ]
    },
    {
     "name": "stdout",
     "output_type": "stream",
     "text": [
      "('Size of data frame: ', (1258, 4))\n"
     ]
    }
   ],
   "source": [
    "PreprocessedData = getStockFromQuandl(symbol, start, end, index)\n",
    "print ('Size of data frame: ', PreprocessedData.shape)"
   ]
  },
  {
   "cell_type": "markdown",
   "metadata": {},
   "source": [
    "## Extending Data Range for later Data Engineering"
   ]
  },
  {
   "cell_type": "code",
   "execution_count": 9,
   "metadata": {},
   "outputs": [
    {
     "name": "stdout",
     "output_type": "stream",
     "text": [
      "('Size of data frame: ', (1503, 4))\n",
      "('First data entry date: ', '2011-01-18', 'Last data entry date: ', '2017-01-05')\n",
      "('Number of NaN of final data frame: ', 2)\n",
      "                Close       Volume    Return  Return_T\n",
      "Date                                                  \n",
      "2011-01-18  43.778273  470249500.0       NaN -0.005328\n",
      "2011-01-19  43.545663  283903200.0 -0.005328 -0.018347\n",
      "2011-01-20  42.754017  191197300.0 -0.018347 -0.018078\n",
      "2011-01-21  41.988074  188600300.0 -0.018078  0.032314\n",
      "2011-01-24  43.367028  143670800.0  0.032314  0.011637\n",
      "                 Close      Volume    Return  Return_T\n",
      "Date                                                  \n",
      "2016-12-29  115.288214  15039519.0 -0.000257 -0.007826\n",
      "2016-12-30  114.389454  30586265.0 -0.007826  0.002845\n",
      "2017-01-03  114.715378  28781865.0  0.002845 -0.001120\n",
      "2017-01-04  114.586983  21118116.0 -0.001120  0.005072\n",
      "2017-01-05  115.169696  22193587.0  0.005072       NaN\n"
     ]
    }
   ],
   "source": [
    "import pendulum\n",
    "from dateutil import parser\n",
    "\n",
    "start_date = pendulum.parse(start, strict=True)\n",
    "end_date = pendulum.parse(end, strict=True)\n",
    "    \n",
    "pre_process_start_date = start_date.subtract(days = 350) # Tracing Back 250 Trading Days (-(250/5)*7) = 350 Calendar Days\n",
    "pre_process_end_date = end_date.add(days = 5) # Adding 1 Trading Days for later cut-off (+ 5 days) = 5 Calendar Days\n",
    "    \n",
    "ExtendedData = getStockFromQuandl(symbol, pre_process_start_date, pre_process_end_date, index)\n",
    "print ('Size of data frame: ', ExtendedData.shape)\n",
    "print ('First data entry date: ', parser.parse(str(ExtendedData.index[0])).date().isoformat(), 'Last data entry date: ', parser.parse(str(ExtendedData.index[-1])).date().isoformat())\n",
    "print ('Number of NaN of final data frame: ', count_missing(ExtendedData)) # Confirming no NaN\n",
    "print (ExtendedData.head(n=5))\n",
    "print (ExtendedData.tail(n=5))"
   ]
  },
  {
   "cell_type": "markdown",
   "metadata": {},
   "source": [
    "## Add new features"
   ]
  },
  {
   "cell_type": "code",
   "execution_count": 10,
   "metadata": {
    "collapsed": true
   },
   "outputs": [],
   "source": [
    "def addFeatures(dataframe, n1, n2):\n",
    "    \n",
    "    # Operates on return column of dataframe:\n",
    "    # n1 = 50, n2 = 200(commonly used)\n",
    "    # Given Return_* computes the return of day i respect to day i-n.      \n",
    "    returns = dataframe.Return\n",
    "    close = dataframe.Close.values\n",
    "    volume = dataframe.Volume.values \n",
    "    \n",
    "    # Add 30 Days Rolling Returns   \n",
    "    RR = \"RR-30\" \n",
    "    dataframe[RR] = returns.rolling(30).mean()\n",
    "    \n",
    "    # Applying EMA-50 Days, EMA-200 Days, and MACD Signal Line-9 Days \n",
    "    EMA_n1 = \"EMA\" + '-' + str(n1)\n",
    "    EMA_n2 = \"EMA\" + '-' + str(n2)\n",
    "    dataframe[EMA_n1] = ta.EMA(close, timeperiod=n1)\n",
    "    dataframe[EMA_n2] = ta.EMA(close, timeperiod=n2)\n",
    "    \n",
    "    # Add MACD(Moving Average Convergence/Divergence), operates on Close column of dataframe:\n",
    "    # Given Closing price computes MACD of the period. \n",
    "    # Applying standard EMA-12 Days, EMA-26 Days, and MACD Signal Line-9 Days   \n",
    "    MACD, _, _ = ta.MACD(close, fastperiod=12, slowperiod=26, signalperiod=9)    \n",
    "    dataframe['MACD'] = pd.Series(MACD, index=dataframe.index)\n",
    "    \n",
    "    # Add OBV(On Balance Volume), operates on Close and Volume columns of dataframe:\n",
    "    # Given closing price and volume computes OBV of the period.    \n",
    "    obv = ta.OBV(close, volume)    \n",
    "    dataframe['OBV'] = pd.Series(obv, index=dataframe.index)\n",
    "    \n",
    "    # Add PPO(Percentage Price Oscillator), operates on Close columns of dataframe:\n",
    "    # Given closing price computes PPO of the period. MA_Type: 0=SMA, 1= EMA\n",
    "    ppo = ta.PPO(close, fastperiod=12, slowperiod=26, matype=1)\n",
    "    dataframe['PPO'] = pd.Series(ppo, index=dataframe.index)\n",
    "    \n",
    "    ### Add RSI(Relative Strength Index), operates on Close columns of dataframe:\n",
    "    ### given closing price computes PPO of the period.     \n",
    "    rsi = ta.RSI(close, timeperiod=14)\n",
    "    dataframe['RSI'] = pd.Series(rsi, index=dataframe.index)\n",
    "    \n",
    "    return dataframe"
   ]
  },
  {
   "cell_type": "code",
   "execution_count": 12,
   "metadata": {
    "collapsed": true
   },
   "outputs": [],
   "source": [
    "### Input: Exponential Moveing Average Window Length\n",
    "n1 = 50\n",
    "n2 = 200"
   ]
  },
  {
   "cell_type": "markdown",
   "metadata": {},
   "source": [
    "### Add Features, Data Range Cutoff, and Verify no NaN Columns"
   ]
  },
  {
   "cell_type": "code",
   "execution_count": 13,
   "metadata": {},
   "outputs": [
    {
     "name": "stdout",
     "output_type": "stream",
     "text": [
      "('Size of data frame after feature engineering: ', (1503, 11))\n",
      "('Number of NaN after feature engineering: ', 352)\n",
      "('Size of data frame after dropping Nan: ', (1303, 9))\n",
      "('Number of NaN after dropping: ', 0)\n",
      "('First data entry date: ', '2011-10-31', 'Last data entry date: ', '2017-01-04')\n",
      "('Start date: ', '20120101', 'End date: ', '20161231')\n",
      "('Size of final data frame: ', (1258, 9))\n",
      "('Number of NaN of final data frame: ', 0)\n"
     ]
    }
   ],
   "source": [
    "dataset = addFeatures(ExtendedData, n1, n2)\n",
    "print ('Size of data frame after feature engineering: ', dataset.shape)\n",
    "print ('Number of NaN after feature engineering: ', count_missing(dataset))\n",
    "\n",
    "finance = dataset.iloc[:, 2:]\n",
    "finance = finance.dropna()\n",
    "print ('Size of data frame after dropping Nan: ', finance.shape)\n",
    "print ('Number of NaN after dropping: ', count_missing(finance)) # Confirming no NaN\n",
    "print ('First data entry date: ', parser.parse(str(finance.index[0])).date().isoformat(), 'Last data entry date: ', parser.parse(str(finance.index[-1])).date().isoformat())    \n",
    "\n",
    "# Make sure Start Date is later than first data entry data, and End Date is earlier than last data entry date.\n",
    "final = finance.loc[start : end] # Data testing range\n",
    "print ('Start date: ', start, 'End date: ', end)\n",
    "print ('Size of final data frame: ', final.shape)\n",
    "print ('Number of NaN of final data frame: ', count_missing(final)) # Confirming no NaN"
   ]
  },
  {
   "cell_type": "markdown",
   "metadata": {},
   "source": [
    "### Quick Glimpse"
   ]
  },
  {
   "cell_type": "code",
   "execution_count": 14,
   "metadata": {},
   "outputs": [
    {
     "name": "stdout",
     "output_type": "stream",
     "text": [
      "              Return  Return_T     RR-30     EMA-50    EMA-200      MACD  \\\n",
      "Date                                                                       \n",
      "2012-01-03  0.015266  0.005360  0.002861  50.347576  47.607900  0.701226   \n",
      "2012-01-04  0.005360  0.011041  0.003258  50.456801  47.662875  0.786613   \n",
      "2012-01-05  0.011041  0.010400  0.004158  50.584874  47.723171  0.891603   \n",
      "2012-01-06  0.010400 -0.001587  0.003834  50.729949  47.788456  1.008500   \n",
      "2012-01-09 -0.001587  0.003574  0.004634  50.865959  47.852234  1.081724   \n",
      "\n",
      "                    OBV       PPO        RSI  \n",
      "Date                                          \n",
      "2012-01-03 -106000300.0  1.382815  66.164034  \n",
      "2012-01-04  -40994800.0  1.545727  67.541068  \n",
      "2012-01-05   26822600.0  1.744841  70.249199  \n",
      "2012-01-06  106395800.0  1.964535  72.593646  \n",
      "2012-01-09    7889700.0  2.098506  71.661242  \n"
     ]
    }
   ],
   "source": [
    "print (final.head(n=5))"
   ]
  },
  {
   "cell_type": "code",
   "execution_count": 15,
   "metadata": {},
   "outputs": [
    {
     "name": "stdout",
     "output_type": "stream",
     "text": [
      "              Return  Return_T     RR-30      EMA-50     EMA-200      MACD  \\\n",
      "Date                                                                         \n",
      "2016-12-23  0.001976  0.006331  0.002596  111.216212  106.598184  1.501988   \n",
      "2016-12-27  0.006331 -0.004273  0.002610  111.396426  106.689861  1.546350   \n",
      "2016-12-28 -0.004273 -0.000257  0.003314  111.550207  106.775711  1.524092   \n",
      "2016-12-29 -0.000257 -0.007826  0.002867  111.696795  106.860413  1.486920   \n",
      "2016-12-30 -0.007826  0.002845  0.001722  111.802390  106.935329  1.369157   \n",
      "\n",
      "                    OBV       PPO        RSI  \n",
      "Date                                          \n",
      "2016-12-23 -199764178.0  1.336777  65.182567  \n",
      "2016-12-27 -181467323.0  1.373135  67.751025  \n",
      "2016-12-28 -202373215.0  1.350967  64.299536  \n",
      "2016-12-29 -217412734.0  1.315881  64.088572  \n",
      "2016-12-30 -247998999.0  1.210560  57.884634  \n"
     ]
    }
   ],
   "source": [
    "print (final.tail(n=5))"
   ]
  },
  {
   "cell_type": "markdown",
   "metadata": {},
   "source": [
    "## Descriptive Statistics"
   ]
  },
  {
   "cell_type": "code",
   "execution_count": 16,
   "metadata": {},
   "outputs": [
    {
     "data": {
      "text/html": [
       "<div>\n",
       "<table border=\"1\" class=\"dataframe\">\n",
       "  <thead>\n",
       "    <tr style=\"text-align: right;\">\n",
       "      <th></th>\n",
       "      <th>Return</th>\n",
       "      <th>Return_T</th>\n",
       "      <th>RR-30</th>\n",
       "      <th>EMA-50</th>\n",
       "      <th>EMA-200</th>\n",
       "      <th>MACD</th>\n",
       "      <th>OBV</th>\n",
       "      <th>PPO</th>\n",
       "      <th>RSI</th>\n",
       "    </tr>\n",
       "  </thead>\n",
       "  <tbody>\n",
       "    <tr>\n",
       "      <th>count</th>\n",
       "      <td>1258.000000</td>\n",
       "      <td>1258.000000</td>\n",
       "      <td>1258.000000</td>\n",
       "      <td>1258.000000</td>\n",
       "      <td>1258.000000</td>\n",
       "      <td>1258.000000</td>\n",
       "      <td>1.258000e+03</td>\n",
       "      <td>1258.000000</td>\n",
       "      <td>1258.000000</td>\n",
       "    </tr>\n",
       "    <tr>\n",
       "      <th>mean</th>\n",
       "      <td>0.000626</td>\n",
       "      <td>0.000616</td>\n",
       "      <td>0.000645</td>\n",
       "      <td>86.944158</td>\n",
       "      <td>83.446403</td>\n",
       "      <td>0.344805</td>\n",
       "      <td>-1.800826e+08</td>\n",
       "      <td>0.414250</td>\n",
       "      <td>54.141609</td>\n",
       "    </tr>\n",
       "    <tr>\n",
       "      <th>std</th>\n",
       "      <td>0.016465</td>\n",
       "      <td>0.016460</td>\n",
       "      <td>0.003124</td>\n",
       "      <td>20.700330</td>\n",
       "      <td>20.012293</td>\n",
       "      <td>1.619666</td>\n",
       "      <td>8.886566e+08</td>\n",
       "      <td>1.938722</td>\n",
       "      <td>13.448955</td>\n",
       "    </tr>\n",
       "    <tr>\n",
       "      <th>min</th>\n",
       "      <td>-0.131875</td>\n",
       "      <td>-0.131875</td>\n",
       "      <td>-0.007874</td>\n",
       "      <td>50.347576</td>\n",
       "      <td>47.607900</td>\n",
       "      <td>-4.131235</td>\n",
       "      <td>-2.316243e+09</td>\n",
       "      <td>-4.933670</td>\n",
       "      <td>21.458262</td>\n",
       "    </tr>\n",
       "    <tr>\n",
       "      <th>25%</th>\n",
       "      <td>-0.007353</td>\n",
       "      <td>-0.007353</td>\n",
       "      <td>-0.001350</td>\n",
       "      <td>70.854835</td>\n",
       "      <td>66.089910</td>\n",
       "      <td>-0.627193</td>\n",
       "      <td>-6.281610e+08</td>\n",
       "      <td>-0.674138</td>\n",
       "      <td>44.808126</td>\n",
       "    </tr>\n",
       "    <tr>\n",
       "      <th>50%</th>\n",
       "      <td>0.000473</td>\n",
       "      <td>0.000473</td>\n",
       "      <td>0.000772</td>\n",
       "      <td>84.507534</td>\n",
       "      <td>75.008612</td>\n",
       "      <td>0.358710</td>\n",
       "      <td>-2.177654e+08</td>\n",
       "      <td>0.408057</td>\n",
       "      <td>53.270271</td>\n",
       "    </tr>\n",
       "    <tr>\n",
       "      <th>75%</th>\n",
       "      <td>0.009742</td>\n",
       "      <td>0.009716</td>\n",
       "      <td>0.002706</td>\n",
       "      <td>104.822764</td>\n",
       "      <td>104.411536</td>\n",
       "      <td>1.450259</td>\n",
       "      <td>3.474067e+08</td>\n",
       "      <td>1.730767</td>\n",
       "      <td>64.261031</td>\n",
       "    </tr>\n",
       "    <tr>\n",
       "      <th>max</th>\n",
       "      <td>0.085022</td>\n",
       "      <td>0.085022</td>\n",
       "      <td>0.008941</td>\n",
       "      <td>122.378996</td>\n",
       "      <td>113.877840</td>\n",
       "      <td>4.764996</td>\n",
       "      <td>3.099381e+09</td>\n",
       "      <td>5.381817</td>\n",
       "      <td>88.056048</td>\n",
       "    </tr>\n",
       "  </tbody>\n",
       "</table>\n",
       "</div>"
      ],
      "text/plain": [
       "            Return     Return_T        RR-30       EMA-50      EMA-200  \\\n",
       "count  1258.000000  1258.000000  1258.000000  1258.000000  1258.000000   \n",
       "mean      0.000626     0.000616     0.000645    86.944158    83.446403   \n",
       "std       0.016465     0.016460     0.003124    20.700330    20.012293   \n",
       "min      -0.131875    -0.131875    -0.007874    50.347576    47.607900   \n",
       "25%      -0.007353    -0.007353    -0.001350    70.854835    66.089910   \n",
       "50%       0.000473     0.000473     0.000772    84.507534    75.008612   \n",
       "75%       0.009742     0.009716     0.002706   104.822764   104.411536   \n",
       "max       0.085022     0.085022     0.008941   122.378996   113.877840   \n",
       "\n",
       "              MACD           OBV          PPO          RSI  \n",
       "count  1258.000000  1.258000e+03  1258.000000  1258.000000  \n",
       "mean      0.344805 -1.800826e+08     0.414250    54.141609  \n",
       "std       1.619666  8.886566e+08     1.938722    13.448955  \n",
       "min      -4.131235 -2.316243e+09    -4.933670    21.458262  \n",
       "25%      -0.627193 -6.281610e+08    -0.674138    44.808126  \n",
       "50%       0.358710 -2.177654e+08     0.408057    53.270271  \n",
       "75%       1.450259  3.474067e+08     1.730767    64.261031  \n",
       "max       4.764996  3.099381e+09     5.381817    88.056048  "
      ]
     },
     "execution_count": 16,
     "metadata": {},
     "output_type": "execute_result"
    }
   ],
   "source": [
    "final.describe()"
   ]
  },
  {
   "cell_type": "markdown",
   "metadata": {},
   "source": [
    "## Data Visualization"
   ]
  },
  {
   "cell_type": "code",
   "execution_count": 21,
   "metadata": {},
   "outputs": [
    {
     "data": {
      "image/png": "[encoded data removed]",
      "text/plain": [
       "<matplotlib.figure.Figure at 0x11b044390>"
      ]
     },
     "metadata": {},
     "output_type": "display_data"
    }
   ],
   "source": [
    "final.hist(figsize=(15,15),bins=50) \n",
    "plt.show()"
   ]
  },
  {
   "cell_type": "code",
   "execution_count": 17,
   "metadata": {},
   "outputs": [
    {
     "data": {
      "image/png": "[encoded data removed]",
      "text/plain": [
       "<matplotlib.figure.Figure at 0x10ca16950>"
      ]
     },
     "metadata": {},
     "output_type": "display_data"
    }
   ],
   "source": [
    "EMA_50 = dataset['EMA-50']\n",
    "EMA_200 = dataset['EMA-200']\n",
    "ax = dataset['Close'].plot(title='%s Price (Adjusted)'%symbol, color = 'C0', figsize = (10,10))\n",
    "\n",
    "EMA_50.plot(label='EMA-50', ax=ax, color = 'C1' )\n",
    "EMA_200.plot(label='EMA-200', ax=ax, color = 'C2')\n",
    "plt.legend(bbox_to_anchor=(1.05, 1), loc=2, borderaxespad=0.)\n",
    "plt.grid(True)\n",
    "\n",
    "plt.show()"
   ]
  },
  {
   "cell_type": "markdown",
   "metadata": {},
   "source": [
    "## Implementation"
   ]
  },
  {
   "cell_type": "markdown",
   "metadata": {},
   "source": [
    "### Prepare Data For Classification"
   ]
  },
  {
   "cell_type": "code",
   "execution_count": 18,
   "metadata": {
    "collapsed": true
   },
   "outputs": [],
   "source": [
    "def prepareDataForClassification(dataset, start_test):\n",
    "    \"\"\"\n",
    "    generates categorical output column, attach to dataframe \n",
    "    label the categories and split into train and test\n",
    "    \"\"\"\n",
    "    le = preprocessing.LabelEncoder()\n",
    "    \n",
    "    dataset.loc[:,'UpDown'] = dataset.loc[:, 'Return_T']\n",
    "    \n",
    "    dataset.UpDown.loc[lambda s: s >= 0] = 'Up'    \n",
    "    dataset.UpDown.loc[lambda s: s < 0] = 'Down'\n",
    "    dataset.UpDown = le.fit(dataset.UpDown).transform(dataset.UpDown)\n",
    "    \n",
    "    dataset_drop = dataset.drop('Return_T', axis = 1)\n",
    "    features = dataset_drop.columns[0:-1]\n",
    "    X = dataset.loc[:, features]    \n",
    "    y = dataset.UpDown    \n",
    "    \n",
    "    X_train = X[X.index < start_test]\n",
    "    y_train = y[y.index < start_test]              \n",
    "        \n",
    "    X_test = X[X.index >= start_test]    \n",
    "    y_test = y[y.index >= start_test]\n",
    "        \n",
    "    return X_train, y_train, X_test, y_test "
   ]
  },
  {
   "cell_type": "code",
   "execution_count": 19,
   "metadata": {},
   "outputs": [
    {
     "name": "stderr",
     "output_type": "stream",
     "text": [
      "/Users/IanHuang/anaconda/lib/python2.7/site-packages/ipykernel_launcher.py:10: SettingWithCopyWarning: \n",
      "A value is trying to be set on a copy of a slice from a DataFrame\n",
      "\n",
      "See the caveats in the documentation: http://pandas.pydata.org/pandas-docs/stable/indexing.html#indexing-view-versus-copy\n",
      "  # Remove the CWD from sys.path while we load stuff.\n",
      "/Users/IanHuang/anaconda/lib/python2.7/site-packages/pandas/core/indexing.py:132: SettingWithCopyWarning: \n",
      "A value is trying to be set on a copy of a slice from a DataFrame\n",
      "\n",
      "See the caveats in the documentation: http://pandas.pydata.org/pandas-docs/stable/indexing.html#indexing-view-versus-copy\n",
      "  self._setitem_with_indexer(indexer, value)\n",
      "/Users/IanHuang/anaconda/lib/python2.7/site-packages/ipykernel_launcher.py:11: SettingWithCopyWarning: \n",
      "A value is trying to be set on a copy of a slice from a DataFrame\n",
      "\n",
      "See the caveats in the documentation: http://pandas.pydata.org/pandas-docs/stable/indexing.html#indexing-view-versus-copy\n",
      "  # This is added back by InteractiveShellApp.init_path()\n",
      "/Users/IanHuang/anaconda/lib/python2.7/site-packages/pandas/core/generic.py:2701: SettingWithCopyWarning: \n",
      "A value is trying to be set on a copy of a slice from a DataFrame.\n",
      "Try using .loc[row_indexer,col_indexer] = value instead\n",
      "\n",
      "See the caveats in the documentation: http://pandas.pydata.org/pandas-docs/stable/indexing.html#indexing-view-versus-copy\n",
      "  self[name] = value\n"
     ]
    }
   ],
   "source": [
    "X_train, y_train, X_test, y_test  = prepareDataForClassification(final, start_test)"
   ]
  },
  {
   "cell_type": "code",
   "execution_count": 20,
   "metadata": {},
   "outputs": [
    {
     "name": "stdout",
     "output_type": "stream",
     "text": [
      "              Return     RR-30     EMA-50    EMA-200      MACD          OBV  \\\n",
      "Date                                                                          \n",
      "2012-01-03  0.015266  0.002861  50.347576  47.607900  0.701226 -106000300.0   \n",
      "2012-01-04  0.005360  0.003258  50.456801  47.662875  0.786613  -40994800.0   \n",
      "2012-01-05  0.011041  0.004158  50.584874  47.723171  0.891603   26822600.0   \n",
      "2012-01-06  0.010400  0.003834  50.729949  47.788456  1.008500  106395800.0   \n",
      "2012-01-09 -0.001587  0.004634  50.865959  47.852234  1.081724    7889700.0   \n",
      "\n",
      "                 PPO        RSI  \n",
      "Date                             \n",
      "2012-01-03  1.382815  66.164034  \n",
      "2012-01-04  1.545727  67.541068  \n",
      "2012-01-05  1.744841  70.249199  \n",
      "2012-01-06  1.964535  72.593646  \n",
      "2012-01-09  2.098506  71.661242  \n"
     ]
    }
   ],
   "source": [
    "print X_train.head()"
   ]
  },
  {
   "cell_type": "code",
   "execution_count": 21,
   "metadata": {},
   "outputs": [
    {
     "name": "stdout",
     "output_type": "stream",
     "text": [
      "              Return     RR-30     EMA-50     EMA-200      MACD          OBV  \\\n",
      "Date                                                                           \n",
      "2016-05-24  0.015129 -0.003814  96.646582  102.479233 -1.622801 -554639693.0   \n",
      "2016-05-25  0.017416 -0.003713  96.674457  102.428269 -1.147499 -515997585.0   \n",
      "2016-05-26  0.007899 -0.003468  96.731515  102.385495 -0.700447 -459666426.0   \n",
      "2016-05-27 -0.000598 -0.002812  96.784037  102.342562 -0.346887 -496007666.0   \n",
      "2016-05-31 -0.004895 -0.002248  96.815719  102.295292 -0.104129 -538314878.0   \n",
      "\n",
      "                 PPO        RSI  \n",
      "Date                             \n",
      "2016-05-24 -1.716726  53.503567  \n",
      "2016-05-25 -1.211230  58.304305  \n",
      "2016-05-26 -0.737393  60.330266  \n",
      "2016-05-27 -0.364309  60.091451  \n",
      "2016-05-31 -0.109157  58.069801  \n"
     ]
    }
   ],
   "source": [
    "print X_train.tail()"
   ]
  },
  {
   "cell_type": "code",
   "execution_count": 26,
   "metadata": {},
   "outputs": [
    {
     "name": "stdout",
     "output_type": "stream",
     "text": [
      "Date\n",
      "2012-01-03    1\n",
      "2012-01-04    1\n",
      "2012-01-05    1\n",
      "2012-01-06    0\n",
      "2012-01-09    1\n",
      "Name: UpDown, dtype: int64\n"
     ]
    }
   ],
   "source": [
    "print y_train.head()"
   ]
  },
  {
   "cell_type": "code",
   "execution_count": 27,
   "metadata": {},
   "outputs": [
    {
     "name": "stdout",
     "output_type": "stream",
     "text": [
      "Date\n",
      "2016-05-24    1\n",
      "2016-05-25    1\n",
      "2016-05-26    0\n",
      "2016-05-27    0\n",
      "2016-05-31    0\n",
      "Name: UpDown, dtype: int64\n"
     ]
    }
   ],
   "source": [
    "print y_train.tail()"
   ]
  },
  {
   "cell_type": "code",
   "execution_count": 34,
   "metadata": {},
   "outputs": [
    {
     "name": "stdout",
     "output_type": "stream",
     "text": [
      "Date\n",
      "2016-12-23    1\n",
      "2016-12-27    0\n",
      "2016-12-28    0\n",
      "2016-12-29    0\n",
      "2016-12-30    1\n",
      "Name: UpDown, dtype: int64\n"
     ]
    }
   ],
   "source": [
    "print y_test.tail()"
   ]
  },
  {
   "cell_type": "markdown",
   "metadata": {},
   "source": [
    "## Perform Classfication Algorithms"
   ]
  },
  {
   "cell_type": "code",
   "execution_count": 22,
   "metadata": {
    "collapsed": true
   },
   "outputs": [],
   "source": [
    "def performClassification(X_train, y_train, X_test, y_test, method, parameters, symbol, savemodel):\n",
    "    \"\"\"\n",
    "    performs classification on daily returns using several algorithms (method).\n",
    "    method --> string algorithm\n",
    "    parameters --> list of parameters passed to the classifier (if any)\n",
    "    symbol --> string with name of stock to be predicted\n",
    "    savemodel --> boolean. If TRUE saves the model to pickle file\n",
    "    \"\"\"\n",
    "    if method == 'LR':\n",
    "        return performLRClass(X_train, y_train, X_test, y_test, parameters, symbol, savemodel)\n",
    "        \n",
    "    elif method == 'NB':\n",
    "        return performNBClass(X_train, y_train, X_test, y_test, parameters, symbol, savemodel)\n",
    "    \n",
    "    elif method == 'RF':   \n",
    "        return performRFClass(X_train, y_train, X_test, y_test, parameters, symbol, savemodel)\n",
    "        \n",
    "    elif method == 'KNN':\n",
    "        return performKNNClass(X_train, y_train, X_test, y_test, parameters, symbol, savemodel)\n",
    "    \n",
    "    elif method == 'SVM':   \n",
    "        return performSVMClass(X_train, y_train, X_test, y_test, parameters, symbol, savemodel)\n",
    "    \n",
    "    elif method == 'ADA':\n",
    "        return performAdaBoostClass(X_train, y_train, X_test, y_test, parameters, symbol, savemodel)\n",
    "    \n",
    "    elif method == 'GTB': \n",
    "        return performGTBClass(X_train, y_train, X_test, y_test, parameters, symbol, savemodel)\n",
    " \n",
    "    elif method == 'QDA': \n",
    "        return performQDAClass(X_train, y_train, X_test, y_test, parameters, symbol, savemodel)\n",
    "    \n",
    "    elif method == 'LRRe': \n",
    "        return performLRReClass(X_train, y_train, X_test, y_test, parameters, symbol, savemodel)\n"
   ]
  },
  {
   "cell_type": "markdown",
   "metadata": {},
   "source": [
    "### Classfication Algorithms"
   ]
  },
  {
   "cell_type": "code",
   "execution_count": 23,
   "metadata": {
    "collapsed": true
   },
   "outputs": [],
   "source": [
    "### Logestic Regression Classification\n",
    "def performLRClass(X_train, y_train, X_test, y_test, parameters, symbol, savemodel):\n",
    "    \n",
    "    clf = linear_model.LogisticRegression()\n",
    "    clf.fit(X_train, y_train)\n",
    "    \n",
    "    if savemodel == True:\n",
    "        fname_out = 'LR_{}.pickle'.format(symbol)\n",
    "        with open(fname_out, 'wb') as f:\n",
    "            pickle.dump(clf, f, -1)    \n",
    "    \n",
    "    accuracy = clf.score(X_test, y_test)\n",
    "    return accuracy\n",
    "\n",
    "### Gaussian Naive Bayes Classification\n",
    "def performNBClass(X_train, y_train, X_test, y_test, parameters, symbol, savemodel):\n",
    "    \n",
    "    clf = GaussianNB()\n",
    "    clf.fit(X_train, y_train)\n",
    "    \n",
    "    if savemodel == True:\n",
    "        fname_out = 'NB_{}.pickle'.format(symbol)\n",
    "        with open(fname_out, 'wb') as f:\n",
    "            pickle.dump(clf, f, -1)    \n",
    "    \n",
    "    accuracy = clf.score(X_test, y_test)\n",
    "    return accuracy\n",
    "\n",
    "### Random Forest Binary Classification\n",
    "def performRFClass(X_train, y_train, X_test, y_test, parameters, symbol, savemodel):\n",
    "    \n",
    "    clf = RandomForestClassifier(n_estimators = 10)\n",
    "    clf.fit(X_train, y_train)\n",
    "    \n",
    "    if savemodel == True:\n",
    "        fname_out = 'RF_{}.pickle'.format(symbol)\n",
    "        with open(fname_out, 'wb') as f:\n",
    "            pickle.dump(clf, f, -1)    \n",
    "    \n",
    "    accuracy = clf.score(X_test, y_test)\n",
    "    return accuracy\n",
    "\n",
    "### KNN binary Classification\n",
    "def performKNNClass(X_train, y_train, X_test, y_test, parameters, symbol, savemodel):\n",
    "    \n",
    "    w = parameters[0]\n",
    "    n = parameters[1]\n",
    "    clf = neighbors.KNeighborsClassifier(weights = w, n_neighbors = n)\n",
    "    \n",
    "    clf.fit(X_train, y_train)\n",
    " \n",
    "    if savemodel == True:\n",
    "        fname_out = 'KNN_{}.pickle'.format(symbol)\n",
    "        with open(fname_out, 'wb') as f:\n",
    "            pickle.dump(clf, f, -1)    \n",
    "    \n",
    "    accuracy = clf.score(X_test, y_test)  \n",
    "    return accuracy\n",
    "\n",
    "### SVM binary Classification\n",
    "def performSVMClass(X_train, y_train, X_test, y_test, parameters, symbol, savemodel):    \n",
    "    \n",
    "    c = parameters[0] # Penalty parameter, default=1.0\n",
    "    k =  parameters[1] # Kernel, default=’rbf’, one of ‘linear’, ‘poly’, ‘rbf’, ‘sigmoid’, ‘precomputed’ \n",
    "    clf = svm.SVC(C=c, kernel=k)\n",
    "    clf.fit(X_train, y_train)\n",
    " \n",
    "    if savemodel == True:\n",
    "        fname_out = 'SVM_{}.pickle'.format(symbol)\n",
    "        with open(fname_out, 'wb') as f:\n",
    "            pickle.dump(clf, f, -1)    \n",
    "    \n",
    "    accuracy = clf.score(X_test, y_test)  \n",
    "    \n",
    "    return accuracy\n",
    "\n",
    "### Ada Boosting binary Classification\n",
    "def performAdaBoostClass(X_train, y_train, X_test, y_test, parameters, symbol, savemodel):\n",
    "\n",
    "    n = parameters[0]\n",
    "    l =  parameters[1]\n",
    "    clf = AdaBoostClassifier(n_estimators=n, learning_rate=l)\n",
    "    clf.fit(X_train, y_train)\n",
    " \n",
    "    if savemodel == True:\n",
    "        fname_out = 'Ada_{}.pickle'.format(symbol)\n",
    "        with open(fname_out, 'wb') as f:\n",
    "            pickle.dump(clf, f, -1)    \n",
    "    \n",
    "    accuracy = clf.score(X_test, y_test)   \n",
    "    return accuracy\n",
    "\n",
    "### Gradient Tree Boosting binary Classification\n",
    "def performGTBClass(X_train, y_train, X_test, y_test, parameters, symbol, savemodel):\n",
    "\n",
    "    clf = GradientBoostingClassifier(n_estimators=100)\n",
    "    clf.fit(X_train, y_train)\n",
    " \n",
    "    if savemodel == True:\n",
    "        fname_out = 'GTB_{}.pickle'.format(symbol)\n",
    "        with open(fname_out, 'wb') as f:\n",
    "            pickle.dump(clf, f, -1)    \n",
    "    \n",
    "    accuracy = clf.score(X_test, y_test)\n",
    "    return accuracy\n",
    "\n",
    "### Quadratic Discriminant Analysis binary Classification\n",
    "def performQDAClass(X_train, y_train, X_test, y_test, parameters, symbol, savemodel):\n",
    "    \n",
    "    clf = QuadraticDiscriminantAnalysis()\n",
    "    clf.fit(X_train, y_train) \n",
    " \n",
    "    if savemodel == True:\n",
    "        fname_out = 'QDA_{}.pickle'.format(symbol)\n",
    "        with open(fname_out, 'wb') as f:\n",
    "            pickle.dump(clf, f, -1)    \n",
    "    \n",
    "    accuracy = clf.score(X_test, y_test)\n",
    "    return accuracy"
   ]
  },
  {
   "cell_type": "code",
   "execution_count": 30,
   "metadata": {
    "collapsed": true
   },
   "outputs": [],
   "source": [
    "### Logestic Regression Classification -Refinement\n",
    "def performLRReClass(X_train, y_train, X_test, y_test, parameters, symbol, savemodel):\n",
    "    \n",
    "    c = parameters[0] # Penalty parameter, default=1.0\n",
    "    s = parameters[1] # {‘newton-cg’, ‘lbfgs’, ‘liblinear’, ‘sag’, ‘saga’}, default: ‘liblinear’ \n",
    "    clf = linear_model.LogisticRegression(C = c, solver = s)\n",
    "    clf.fit(X_train, y_train)\n",
    "    \n",
    "    if savemodel == True:\n",
    "        fname_out = 'LR_Re_{}.pickle'.format(symbol)\n",
    "        with open(fname_out, 'wb') as f:\n",
    "            pickle.dump(clf, f, -1)    \n",
    "    \n",
    "    accuracy = clf.score(X_test, y_test)\n",
    "    return accuracy"
   ]
  },
  {
   "cell_type": "code",
   "execution_count": null,
   "metadata": {
    "collapsed": true
   },
   "outputs": [],
   "source": [
    "### KNN binary Classification- Grid Search\n",
    "def performKNNGRClass(X_train, y_train, X_test, y_test, parameters, symbol, savemodel):\n",
    "    \n",
    "    tuned_parameters = [{'weights': ['uniform'],'n_neighbors': [10, 20, 30, 50]},\n",
    "                    {'weights': ['distance'], 'n_neighbors': [10, 20, 30, 50]}]\n",
    "\n",
    "    \n",
    "    clf = GridSearchCV(neighbors.KNeighborsClassifier(),tuned_parameters)\n",
    "    clf.fit(X_train, y_train)\n",
    " \n",
    "    if savemodel == True:\n",
    "        fname_out = 'KNN_{}.pickle'.format(symbol)\n",
    "        with open(fname_out, 'wb') as f:\n",
    "            pickle.dump(clf, f, -1)    \n",
    "    \n",
    "    accuracy = clf.score(X_test, y_test)\n",
    "    \n",
    "    print(\"Best parameters set found:\")\n",
    "    print()\n",
    "    print(clf.best_params_)\n",
    "    \n",
    "    \n",
    "    return accuracy"
   ]
  },
  {
   "cell_type": "markdown",
   "metadata": {},
   "source": [
    "### Time Series Cross Validation"
   ]
  },
  {
   "cell_type": "code",
   "execution_count": 24,
   "metadata": {
    "collapsed": true
   },
   "outputs": [],
   "source": [
    "from sklearn.model_selection import TimeSeriesSplit\n",
    "       \n",
    "def performTimeSeriesCV(X_train, y_train, number_folds, method, parameters, symbol, savemodel):\n",
    "    print ('Parameters --------------------------------> ', parameters)\n",
    "    print ('Size train set: ', X_train.shape)\n",
    "    tscv = TimeSeriesSplit(n_splits=number_folds - 1)\n",
    "    \n",
    "    k = int(np.floor(float(X_train.shape[0]) / number_folds))\n",
    "    print ('Size of each fold: ', k)\n",
    "    \n",
    "    accuracies = np.zeros(number_folds-1)\n",
    " \n",
    "    # loop from the first 2 folds to the total number of folds    \n",
    "    i = 2\n",
    "    for train_index, test_index in tscv.split(X_train):\n",
    "        # folds used to train the model        \n",
    "        X_trainFolds = X_train[:len(train_index)]     \n",
    "        y_trainFolds = y_train[:len(train_index)]\n",
    "\n",
    "        # fold used to test the model\n",
    "        X_testFolds = X_train[len(train_index):(len(train_index)+len(test_index))]\n",
    "        y_testFolds = y_train[len(train_index):(len(train_index)+len(test_index))]\n",
    "\n",
    "        accuracies[i-2] = performClassification(X_trainFolds, y_trainFolds, X_testFolds, y_testFolds, method, parameters, symbol, savemodel)\n",
    "        print ('')\n",
    "        print ('Splitting the first ' + str(i) + ' chunks at ' + str(i-1) + '/' + str(i))\n",
    "        print ('Size of train + test: ', np.shape(X_trainFolds + X_testFolds)) # the size of the dataframe is going to be k*i\n",
    "       \n",
    "        print ('Accuracy on fold ' + str(i) + ': ', accuracies[i-2])\n",
    "        i = i + 1\n",
    "    print ('')\n",
    "    print ('Average accuracies: ', accuracies.mean())\n",
    "    return  accuracies.mean()  "
   ]
  },
  {
   "cell_type": "markdown",
   "metadata": {},
   "source": [
    "### Perform Cross Validation"
   ]
  },
  {
   "cell_type": "code",
   "execution_count": null,
   "metadata": {
    "collapsed": true
   },
   "outputs": [],
   "source": [
    "performTimeSeriesCV(X_train, y_train, 10, 'ADA', [50, 1.0], \"AAPL\", True)"
   ]
  },
  {
   "cell_type": "code",
   "execution_count": null,
   "metadata": {
    "collapsed": true
   },
   "outputs": [],
   "source": [
    "performTimeSeriesCV(X_train, y_train, 10, 'SVM', [1.0,'rbf'], \"AAPL\", True)"
   ]
  },
  {
   "cell_type": "code",
   "execution_count": null,
   "metadata": {
    "collapsed": true
   },
   "outputs": [],
   "source": [
    "performTimeSeriesCV(X_train, y_train, 10, 'RF', [], \"AAPL\", True)"
   ]
  },
  {
   "cell_type": "code",
   "execution_count": null,
   "metadata": {
    "collapsed": true
   },
   "outputs": [],
   "source": [
    "performTimeSeriesCV(X_train, y_train, 10, 'KNN', ['distance', 10], \"AAPL\", True)"
   ]
  },
  {
   "cell_type": "code",
   "execution_count": null,
   "metadata": {
    "collapsed": true
   },
   "outputs": [],
   "source": [
    "performTimeSeriesCV(X_train, y_train, 10, 'NB', [], \"AAPL\", True)"
   ]
  },
  {
   "cell_type": "code",
   "execution_count": 25,
   "metadata": {},
   "outputs": [
    {
     "name": "stdout",
     "output_type": "stream",
     "text": [
      "('Parameters --------------------------------> ', [])\n",
      "('Size train set: ', (1109, 8))\n",
      "('Size of each fold: ', 110)\n",
      "\n",
      "Splitting the first 2 chunks at 1/2\n",
      "('Size of train + test: ', (229, 8))\n",
      "('Accuracy on fold 2: ', 0.5)\n",
      "\n",
      "Splitting the first 3 chunks at 2/3\n",
      "('Size of train + test: ', (339, 8))\n",
      "('Accuracy on fold 3: ', 0.47272727272727272)\n",
      "\n",
      "Splitting the first 4 chunks at 3/4\n",
      "('Size of train + test: ', (449, 8))\n",
      "('Accuracy on fold 4: ', 0.54545454545454541)\n",
      "\n",
      "Splitting the first 5 chunks at 4/5\n",
      "('Size of train + test: ', (559, 8))\n",
      "('Accuracy on fold 5: ', 0.51818181818181819)\n",
      "\n",
      "Splitting the first 6 chunks at 5/6\n",
      "('Size of train + test: ', (669, 8))\n",
      "('Accuracy on fold 6: ', 0.52727272727272723)\n",
      "\n",
      "Splitting the first 7 chunks at 6/7\n",
      "('Size of train + test: ', (779, 8))\n",
      "('Accuracy on fold 7: ', 0.5636363636363636)\n",
      "\n",
      "Splitting the first 8 chunks at 7/8\n",
      "('Size of train + test: ', (889, 8))\n",
      "('Accuracy on fold 8: ', 0.51818181818181819)\n",
      "\n",
      "Splitting the first 9 chunks at 8/9\n",
      "('Size of train + test: ', (999, 8))\n",
      "('Accuracy on fold 9: ', 0.54545454545454541)\n",
      "\n",
      "Splitting the first 10 chunks at 9/10\n",
      "('Size of train + test: ', (1109, 8))\n",
      "('Accuracy on fold 10: ', 0.50909090909090904)\n",
      "\n",
      "('Average accuracies: ', 0.52222222222222214)\n"
     ]
    },
    {
     "data": {
      "text/plain": [
       "0.52222222222222214"
      ]
     },
     "execution_count": 25,
     "metadata": {},
     "output_type": "execute_result"
    }
   ],
   "source": [
    "performTimeSeriesCV(X_train, y_train, 10, 'LR', [], \"AAPL\", True)"
   ]
  },
  {
   "cell_type": "code",
   "execution_count": null,
   "metadata": {
    "collapsed": true
   },
   "outputs": [],
   "source": [
    "performTimeSeriesCV(X_train, y_train, 10, 'GTB', [], \"AAPL\", True)"
   ]
  },
  {
   "cell_type": "code",
   "execution_count": null,
   "metadata": {
    "collapsed": true
   },
   "outputs": [],
   "source": [
    "performTimeSeriesCV(X_train, y_train, 10, 'QDA', [], \"AAPL\", True)"
   ]
  },
  {
   "cell_type": "markdown",
   "metadata": {},
   "source": [
    "## Refinement -parameters"
   ]
  },
  {
   "cell_type": "markdown",
   "metadata": {},
   "source": [
    "#### Logistic Regression"
   ]
  },
  {
   "cell_type": "code",
   "execution_count": 35,
   "metadata": {},
   "outputs": [
    {
     "name": "stdout",
     "output_type": "stream",
     "text": [
      "('Parameters --------------------------------> ', [1, 'newton-cg'])\n",
      "('Size train set: ', (1109, 8))\n",
      "('Size of each fold: ', 110)\n",
      "\n",
      "Splitting the first 2 chunks at 1/2\n",
      "('Size of train + test: ', (229, 8))\n",
      "('Accuracy on fold 2: ', 0.57272727272727275)\n",
      "\n",
      "Splitting the first 3 chunks at 2/3\n",
      "('Size of train + test: ', (339, 8))\n",
      "('Accuracy on fold 3: ', 0.43636363636363634)\n",
      "\n",
      "Splitting the first 4 chunks at 3/4\n",
      "('Size of train + test: ', (449, 8))\n",
      "('Accuracy on fold 4: ', 0.54545454545454541)\n",
      "\n",
      "Splitting the first 5 chunks at 4/5\n",
      "('Size of train + test: ', (559, 8))\n",
      "('Accuracy on fold 5: ', 0.51818181818181819)\n",
      "\n",
      "Splitting the first 6 chunks at 5/6\n",
      "('Size of train + test: ', (669, 8))\n",
      "('Accuracy on fold 6: ', 0.55454545454545456)\n",
      "\n",
      "Splitting the first 7 chunks at 6/7\n",
      "('Size of train + test: ', (779, 8))\n",
      "('Accuracy on fold 7: ', 0.46363636363636362)\n",
      "\n",
      "Splitting the first 8 chunks at 7/8\n",
      "('Size of train + test: ', (889, 8))\n",
      "('Accuracy on fold 8: ', 0.51818181818181819)\n",
      "\n",
      "Splitting the first 9 chunks at 8/9\n",
      "('Size of train + test: ', (999, 8))\n",
      "('Accuracy on fold 9: ', 0.55454545454545456)\n",
      "\n",
      "Splitting the first 10 chunks at 9/10\n",
      "('Size of train + test: ', (1109, 8))\n",
      "('Accuracy on fold 10: ', 0.49090909090909091)\n",
      "\n",
      "('Average accuracies: ', 0.51717171717171717)\n"
     ]
    },
    {
     "data": {
      "text/plain": [
       "0.51717171717171717"
      ]
     },
     "execution_count": 35,
     "metadata": {},
     "output_type": "execute_result"
    }
   ],
   "source": [
    "performTimeSeriesCV(X_train, y_train, 10, 'LRRe', [1, 'newton-cg'], \"AAPL\", True)"
   ]
  },
  {
   "cell_type": "code",
   "execution_count": 34,
   "metadata": {},
   "outputs": [
    {
     "name": "stdout",
     "output_type": "stream",
     "text": [
      "('Parameters --------------------------------> ', [1, 'lbfgs'])\n",
      "('Size train set: ', (1109, 8))\n",
      "('Size of each fold: ', 110)\n",
      "\n",
      "Splitting the first 2 chunks at 1/2\n",
      "('Size of train + test: ', (229, 8))\n",
      "('Accuracy on fold 2: ', 0.5)\n",
      "\n",
      "Splitting the first 3 chunks at 2/3\n",
      "('Size of train + test: ', (339, 8))\n",
      "('Accuracy on fold 3: ', 0.47272727272727272)\n",
      "\n",
      "Splitting the first 4 chunks at 3/4\n",
      "('Size of train + test: ', (449, 8))\n",
      "('Accuracy on fold 4: ', 0.54545454545454541)\n",
      "\n",
      "Splitting the first 5 chunks at 4/5\n",
      "('Size of train + test: ', (559, 8))\n",
      "('Accuracy on fold 5: ', 0.51818181818181819)\n",
      "\n",
      "Splitting the first 6 chunks at 5/6\n",
      "('Size of train + test: ', (669, 8))\n",
      "('Accuracy on fold 6: ', 0.52727272727272723)\n",
      "\n",
      "Splitting the first 7 chunks at 6/7\n",
      "('Size of train + test: ', (779, 8))\n",
      "('Accuracy on fold 7: ', 0.5636363636363636)\n",
      "\n",
      "Splitting the first 8 chunks at 7/8\n",
      "('Size of train + test: ', (889, 8))\n",
      "('Accuracy on fold 8: ', 0.51818181818181819)\n",
      "\n",
      "Splitting the first 9 chunks at 8/9\n",
      "('Size of train + test: ', (999, 8))\n",
      "('Accuracy on fold 9: ', 0.54545454545454541)\n",
      "\n",
      "Splitting the first 10 chunks at 9/10\n",
      "('Size of train + test: ', (1109, 8))\n",
      "('Accuracy on fold 10: ', 0.50909090909090904)\n",
      "\n",
      "('Average accuracies: ', 0.52222222222222214)\n"
     ]
    },
    {
     "data": {
      "text/plain": [
       "0.52222222222222214"
      ]
     },
     "execution_count": 34,
     "metadata": {},
     "output_type": "execute_result"
    }
   ],
   "source": [
    "performTimeSeriesCV(X_train, y_train, 10, 'LRRe', [1, 'lbfgs'], \"AAPL\", True)"
   ]
  },
  {
   "cell_type": "markdown",
   "metadata": {},
   "source": [
    "#### K-nearest Neighbors"
   ]
  },
  {
   "cell_type": "code",
   "execution_count": null,
   "metadata": {
    "collapsed": true
   },
   "outputs": [],
   "source": [
    "performTimeSeriesCV(X_train, y_train, 10, 'KNN', ['distance', 5], \"AAPL\", True)"
   ]
  },
  {
   "cell_type": "code",
   "execution_count": null,
   "metadata": {
    "collapsed": true
   },
   "outputs": [],
   "source": [
    "performTimeSeriesCV(X_train, y_train, 10, 'KNN', ['distance', 10], \"AAPL\", True)"
   ]
  },
  {
   "cell_type": "code",
   "execution_count": null,
   "metadata": {
    "collapsed": true
   },
   "outputs": [],
   "source": [
    "performTimeSeriesCV(X_train, y_train, 10, 'KNN', ['distance', 25], \"AAPL\", True)"
   ]
  },
  {
   "cell_type": "code",
   "execution_count": null,
   "metadata": {
    "collapsed": true
   },
   "outputs": [],
   "source": [
    "performTimeSeriesCV(X_train, y_train, 10, 'KNN', ['uniform', 25], \"AAPL\", True)"
   ]
  },
  {
   "cell_type": "code",
   "execution_count": null,
   "metadata": {
    "collapsed": true
   },
   "outputs": [],
   "source": [
    "performTimeSeriesCV(X_train, y_train, 10, 'KNN', ['uniform', 10], \"AAPL\", True)"
   ]
  },
  {
   "cell_type": "code",
   "execution_count": null,
   "metadata": {
    "collapsed": true
   },
   "outputs": [],
   "source": [
    "performTimeSeriesCV(X_train, y_train, 10, 'KNN', ['uniform', 5], \"AAPL\", True)"
   ]
  },
  {
   "cell_type": "markdown",
   "metadata": {},
   "source": [
    "#### Adaptive Boosting"
   ]
  },
  {
   "cell_type": "code",
   "execution_count": null,
   "metadata": {
    "collapsed": true
   },
   "outputs": [],
   "source": [
    "performTimeSeriesCV(X_train, y_train, 10, 'ADA', [50, 0.01], \"AAPL\", True)"
   ]
  },
  {
   "cell_type": "code",
   "execution_count": null,
   "metadata": {
    "collapsed": true
   },
   "outputs": [],
   "source": [
    "performTimeSeriesCV(X_train, y_train, 10, 'ADA', [50, 0.001], \"AAPL\", True)"
   ]
  },
  {
   "cell_type": "code",
   "execution_count": null,
   "metadata": {
    "collapsed": true
   },
   "outputs": [],
   "source": [
    "performTimeSeriesCV(X_train, y_train, 10, 'ADA', [25, 0.001], \"AAPL\", True)"
   ]
  },
  {
   "cell_type": "markdown",
   "metadata": {},
   "source": [
    "#### Support Vector Machine"
   ]
  },
  {
   "cell_type": "code",
   "execution_count": null,
   "metadata": {
    "collapsed": true
   },
   "outputs": [],
   "source": [
    "performTimeSeriesCV(X_train, y_train, 10, 'SVM', [1.0,'poly'], \"AAPL\", True)"
   ]
  },
  {
   "cell_type": "code",
   "execution_count": null,
   "metadata": {
    "collapsed": true
   },
   "outputs": [],
   "source": [
    "performTimeSeriesCV(X_train, y_train, 10, 'SVM', [1.0,'sigmoid'], \"AAPL\", True)"
   ]
  },
  {
   "cell_type": "code",
   "execution_count": null,
   "metadata": {
    "collapsed": true
   },
   "outputs": [],
   "source": [
    "performTimeSeriesCV(X_train, y_train, 10, 'SVM', [0.8,'poly'], \"AAPL\", True)"
   ]
  },
  {
   "cell_type": "code",
   "execution_count": null,
   "metadata": {
    "collapsed": true
   },
   "outputs": [],
   "source": [
    "performTimeSeriesCV(X_train, y_train, 10, 'SVM', [100,'sigmoid'], \"AAPL\", True)"
   ]
  },
  {
   "cell_type": "markdown",
   "metadata": {},
   "source": [
    "## Refinement - Number of folds in Cross Validation"
   ]
  },
  {
   "cell_type": "markdown",
   "metadata": {},
   "source": [
    "#### Logistic Regression"
   ]
  },
  {
   "cell_type": "code",
   "execution_count": null,
   "metadata": {
    "collapsed": true
   },
   "outputs": [],
   "source": [
    "performTimeSeriesCV(X_train, y_train, 8, 'LR', [], \"AAPL\", True)"
   ]
  },
  {
   "cell_type": "code",
   "execution_count": 35,
   "metadata": {},
   "outputs": [
    {
     "name": "stdout",
     "output_type": "stream",
     "text": [
      "('Parameters --------------------------------> ', [])\n",
      "('Size train set: ', (1109, 8))\n",
      "('Size of each fold: ', 221)\n",
      "\n",
      "Splitting the first 2 chunks at 1/2\n",
      "('Size of train + test: ', (446, 8))\n",
      "('Accuracy on fold 2: ', 0.50678733031674206)\n",
      "\n",
      "Splitting the first 3 chunks at 2/3\n",
      "('Size of train + test: ', (667, 8))\n",
      "('Accuracy on fold 3: ', 0.5339366515837104)\n",
      "\n",
      "Splitting the first 4 chunks at 3/4\n",
      "('Size of train + test: ', (888, 8))\n",
      "('Accuracy on fold 4: ', 0.53846153846153844)\n",
      "\n",
      "Splitting the first 5 chunks at 4/5\n",
      "('Size of train + test: ', (1109, 8))\n",
      "('Accuracy on fold 5: ', 0.52488687782805432)\n",
      "\n",
      "('Average accuracies: ', 0.52601809954751122)\n"
     ]
    },
    {
     "data": {
      "text/plain": [
       "0.52601809954751122"
      ]
     },
     "execution_count": 35,
     "metadata": {},
     "output_type": "execute_result"
    }
   ],
   "source": [
    "performTimeSeriesCV(X_train, y_train, 5, 'LR', [], \"AAPL\", True)"
   ]
  },
  {
   "cell_type": "code",
   "execution_count": null,
   "metadata": {
    "collapsed": true
   },
   "outputs": [],
   "source": [
    "performTimeSeriesCV(X_train, y_train, 3, 'LR', [], \"AAPL\", True)"
   ]
  },
  {
   "cell_type": "code",
   "execution_count": null,
   "metadata": {
    "collapsed": true
   },
   "outputs": [],
   "source": [
    "performTimeSeriesCV(X_train, y_train, 15, 'LR', [], \"AAPL\", True)"
   ]
  },
  {
   "cell_type": "markdown",
   "metadata": {},
   "source": [
    "#### Gradient Tree Boosting"
   ]
  },
  {
   "cell_type": "code",
   "execution_count": null,
   "metadata": {
    "collapsed": true
   },
   "outputs": [],
   "source": [
    "performTimeSeriesCV(X_train, y_train, 8, 'GTB', [], \"AAPL\", True)"
   ]
  },
  {
   "cell_type": "code",
   "execution_count": null,
   "metadata": {
    "collapsed": true
   },
   "outputs": [],
   "source": [
    "performTimeSeriesCV(X_train, y_train, 5, 'GTB', [], \"AAPL\", True)"
   ]
  },
  {
   "cell_type": "code",
   "execution_count": null,
   "metadata": {
    "collapsed": true
   },
   "outputs": [],
   "source": [
    "performTimeSeriesCV(X_train, y_train, 3, 'GTB', [], \"AAPL\", True)"
   ]
  },
  {
   "cell_type": "code",
   "execution_count": null,
   "metadata": {
    "collapsed": true
   },
   "outputs": [],
   "source": [
    "performTimeSeriesCV(X_train, y_train, 15, 'GTB', [], \"AAPL\", True)"
   ]
  },
  {
   "cell_type": "markdown",
   "metadata": {},
   "source": [
    "#### Quadratic Discriminant Analysis"
   ]
  },
  {
   "cell_type": "code",
   "execution_count": null,
   "metadata": {
    "collapsed": true
   },
   "outputs": [],
   "source": [
    "performTimeSeriesCV(X_train, y_train, 8, 'QDA', [], \"AAPL\", True)"
   ]
  },
  {
   "cell_type": "code",
   "execution_count": null,
   "metadata": {
    "collapsed": true
   },
   "outputs": [],
   "source": [
    "performTimeSeriesCV(X_train, y_train, 5, 'QDA', [], \"AAPL\", True)"
   ]
  },
  {
   "cell_type": "code",
   "execution_count": null,
   "metadata": {
    "collapsed": true
   },
   "outputs": [],
   "source": [
    "performTimeSeriesCV(X_train, y_train, 3, 'QDA', [], \"AAPL\", True)"
   ]
  },
  {
   "cell_type": "code",
   "execution_count": null,
   "metadata": {
    "collapsed": true
   },
   "outputs": [],
   "source": [
    "performTimeSeriesCV(X_train, y_train, 15, 'QDA', [], \"AAPL\", True)"
   ]
  },
  {
   "cell_type": "markdown",
   "metadata": {},
   "source": [
    "### Sensivity Analysis"
   ]
  },
  {
   "cell_type": "code",
   "execution_count": 38,
   "metadata": {},
   "outputs": [
    {
     "data": {
      "text/plain": [
       "array([[  1.52656016e-02,   2.86068463e-03,   5.03475761e+01, ...,\n",
       "          1.73457217e+00,  -1.09828943e+00,   5.72613353e-01],\n",
       "       [  5.35973248e-03,   3.25821293e-03,   5.04568007e+01, ...,\n",
       "         -2.19925405e+00,   7.29288747e-01,   1.10055824e+00],\n",
       "       [  1.10407991e-02,   4.15764854e-03,   5.05848744e+01, ...,\n",
       "         -7.26583513e-01,   9.75195864e-01,  -1.28478751e+00],\n",
       "       ..., \n",
       "       [  7.89885625e-03,  -3.46782934e-03,   9.67315153e+01, ...,\n",
       "         -1.36129068e+00,   4.96625109e-01,  -6.80799054e-02],\n",
       "       [ -5.97728649e-04,  -2.81190259e-03,   9.67840367e+01, ...,\n",
       "         -3.34994757e-01,  -1.48155711e+00,  -1.18693287e+00],\n",
       "       [ -4.89487017e-03,  -2.24803109e-03,   9.68157191e+01, ...,\n",
       "         -1.40234156e+00,   8.89910116e-01,  -7.62138774e-01]])"
      ]
     },
     "execution_count": 38,
     "metadata": {},
     "output_type": "execute_result"
    }
   ],
   "source": [
    "# Some noisy data not correlated\n",
    "random = np.random.RandomState(seed=0)\n",
    "E = random.normal(size=(len(X_train), 2200))\n",
    "\n",
    "# Add noisy data to the informative features for make the task harder\n",
    "X = np.c_[X_train, E]\n",
    "X"
   ]
  },
  {
   "cell_type": "code",
   "execution_count": 44,
   "metadata": {},
   "outputs": [
    {
     "name": "stdout",
     "output_type": "stream",
     "text": [
      "Classification score 0.519368148636 (pvalue : 0.0597014925373)\n"
     ]
    }
   ],
   "source": [
    "from sklearn.model_selection import permutation_test_score\n",
    "\n",
    "clf = linear_model.LogisticRegression()\n",
    "\n",
    "score, permutation_scores, pvalue = permutation_test_score(\n",
    "   clf, X, y_train, scoring=\"accuracy\", n_permutations=200, n_jobs=1)\n",
    "\n",
    "print(\"Classification score %s (pvalue : %s)\" % (score, pvalue))"
   ]
  },
  {
   "cell_type": "code",
   "execution_count": 48,
   "metadata": {},
   "outputs": [
    {
     "data": {
      "text/plain": [
       "array([ 0.15078246,  0.30111798,  0.08218106,  0.08322952,  0.39938447,\n",
       "        0.20692416,  0.2440682 ,  0.28817792])"
      ]
     },
     "execution_count": 48,
     "metadata": {},
     "output_type": "execute_result"
    }
   ],
   "source": [
    "from sklearn.feature_selection import chi2\n",
    "chi2, pvalues = f_classif(X_train, y_train)\n",
    "pvalues"
   ]
  },
  {
   "cell_type": "code",
   "execution_count": 47,
   "metadata": {},
   "outputs": [
    {
     "data": {
      "text/plain": [
       "array([ 0.15078246,  0.30111798,  0.08218106,  0.08322952,  0.39938447,\n",
       "        0.20692416,  0.2440682 ,  0.28817792])"
      ]
     },
     "execution_count": 47,
     "metadata": {},
     "output_type": "execute_result"
    }
   ],
   "source": [
    "from sklearn.feature_selection import f_classif\n",
    "F, pvalues = f_classif(X_train, y_train)\n",
    "pvalues"
   ]
  },
  {
   "cell_type": "markdown",
   "metadata": {},
   "source": [
    "## Reflection and Improvement"
   ]
  },
  {
   "cell_type": "markdown",
   "metadata": {},
   "source": [
    "### Feature Importance Cross Validation"
   ]
  },
  {
   "cell_type": "code",
   "execution_count": 89,
   "metadata": {},
   "outputs": [
    {
     "ename": "NameError",
     "evalue": "name 'clf' is not defined",
     "output_type": "error",
     "traceback": [
      "\u001b[0;31m---------------------------------------------------------------------------\u001b[0m",
      "\u001b[0;31mNameError\u001b[0m                                 Traceback (most recent call last)",
      "\u001b[0;32m<ipython-input-89-5c4e6ae132cc>\u001b[0m in \u001b[0;36m<module>\u001b[0;34m()\u001b[0m\n\u001b[0;32m----> 1\u001b[0;31m \u001b[0mfeature_importances\u001b[0m \u001b[0;34m=\u001b[0m \u001b[0mpd\u001b[0m\u001b[0;34m.\u001b[0m\u001b[0mSeries\u001b[0m\u001b[0;34m(\u001b[0m\u001b[0mclf\u001b[0m\u001b[0;34m.\u001b[0m\u001b[0mfeature_importances_\u001b[0m\u001b[0;34m,\u001b[0m \u001b[0mindex\u001b[0m\u001b[0;34m=\u001b[0m\u001b[0mX_train\u001b[0m\u001b[0;34m.\u001b[0m\u001b[0mcolumns\u001b[0m\u001b[0;34m)\u001b[0m\u001b[0;34m\u001b[0m\u001b[0m\n\u001b[0m\u001b[1;32m      2\u001b[0m \u001b[0mfeature_importances\u001b[0m\u001b[0;34m.\u001b[0m\u001b[0msort\u001b[0m\u001b[0;34m(\u001b[0m\u001b[0mascending\u001b[0m\u001b[0;34m=\u001b[0m\u001b[0mFalse\u001b[0m\u001b[0;34m)\u001b[0m\u001b[0;34m\u001b[0m\u001b[0m\n\u001b[1;32m      3\u001b[0m \u001b[0max\u001b[0m \u001b[0;34m=\u001b[0m \u001b[0mfeature_importances\u001b[0m\u001b[0;34m.\u001b[0m\u001b[0mplot\u001b[0m\u001b[0;34m(\u001b[0m\u001b[0mkind\u001b[0m\u001b[0;34m=\u001b[0m\u001b[0;34m'bar'\u001b[0m\u001b[0;34m)\u001b[0m\u001b[0;34m\u001b[0m\u001b[0m\n\u001b[1;32m      4\u001b[0m \u001b[0max\u001b[0m\u001b[0;34m.\u001b[0m\u001b[0mset\u001b[0m\u001b[0;34m(\u001b[0m\u001b[0mylabel\u001b[0m\u001b[0;34m=\u001b[0m\u001b[0;34m'Importance (Gini Coefficient)'\u001b[0m\u001b[0;34m,\u001b[0m \u001b[0mtitle\u001b[0m\u001b[0;34m=\u001b[0m\u001b[0;34m'Feature importances'\u001b[0m\u001b[0;34m)\u001b[0m\u001b[0;34m;\u001b[0m\u001b[0;34m\u001b[0m\u001b[0m\n",
      "\u001b[0;31mNameError\u001b[0m: name 'clf' is not defined"
     ]
    }
   ],
   "source": [
    "feature_importances = pd.Series(clf.feature_importances_, index=X_train.columns)\n",
    "feature_importances.sort(ascending=False)\n",
    "ax = feature_importances.plot(kind='bar')\n",
    "ax.set(ylabel='Importance (Gini Coefficient)', title='Feature importances');"
   ]
  },
  {
   "cell_type": "markdown",
   "metadata": {},
   "source": [
    "### PCA Analysis"
   ]
  },
  {
   "cell_type": "code",
   "execution_count": 90,
   "metadata": {},
   "outputs": [
    {
     "data": {
      "image/png": "[encoded data removed]",
      "text/plain": [
       "<matplotlib.figure.Figure at 0x10bccff90>"
      ]
     },
     "metadata": {},
     "output_type": "display_data"
    }
   ],
   "source": [
    "from sklearn.decomposition import PCA\n",
    "import visuals as vs\n",
    "pca = PCA(n_components=5)\n",
    "pca.fit(X_train)\n",
    "pca_results = vs.pca_results(X_train, pca)"
   ]
  },
  {
   "cell_type": "markdown",
   "metadata": {},
   "source": [
    "### Train the model on the whole train set and report the accuracy on the test set"
   ]
  },
  {
   "cell_type": "code",
   "execution_count": null,
   "metadata": {
    "collapsed": true
   },
   "outputs": [],
   "source": [
    "performSVMGRClass(X_train, y_train, X_test, y_test, parameters, symbol, savemodel)"
   ]
  },
  {
   "cell_type": "markdown",
   "metadata": {},
   "source": [
    "### Get Prediction from Best Model"
   ]
  },
  {
   "cell_type": "code",
   "execution_count": 27,
   "metadata": {
    "collapsed": true
   },
   "outputs": [],
   "source": [
    "def getPredictionFromBestModel(best_model):\n",
    "    with open(best_model, 'rb') as fin:\n",
    "        model = pickle.load(fin)\n",
    "        \n",
    "    return model.predict(X_test), model.score(X_test, y_test)"
   ]
  },
  {
   "cell_type": "code",
   "execution_count": 36,
   "metadata": {},
   "outputs": [
    {
     "data": {
      "text/plain": [
       "0.5436241610738255"
      ]
     },
     "execution_count": 36,
     "metadata": {},
     "output_type": "execute_result"
    }
   ],
   "source": [
    "best_model = \"LR_AAPL.pickle\"\n",
    "prediction_score_LR = getPredictionFromBestModel(best_model)[1]\n",
    "prediction_LR = getPredictionFromBestModel(best_model)[0]\n",
    "prediction_score_LR"
   ]
  },
  {
   "cell_type": "code",
   "execution_count": 37,
   "metadata": {},
   "outputs": [
    {
     "data": {
      "text/plain": [
       "array([1, 1, 1, 1, 1, 1, 1, 1, 1, 1, 1, 1, 1, 1, 1, 1, 1, 1, 1, 1, 1, 1, 1,\n",
       "       1, 1, 1, 1, 1, 1, 1, 1, 1, 1, 1, 1, 1, 1, 1, 1, 1, 1, 1, 1, 1, 1, 1,\n",
       "       1, 1, 1, 1, 1, 1, 1, 1, 1, 1, 1, 1, 1, 1, 1, 1, 1, 1, 1, 1, 1, 1, 1,\n",
       "       1, 1, 1, 1, 1, 1, 1, 1, 1, 1, 1, 1, 1, 1, 1, 1, 1, 1, 1, 1, 1, 1, 1,\n",
       "       1, 1, 1, 1, 1, 1, 1, 1, 1, 1, 1, 1, 1, 1, 1, 1, 1, 1, 1, 1, 1, 1, 1,\n",
       "       1, 1, 1, 1, 1, 1, 1, 1, 1, 1, 1, 1, 1, 1, 1, 1, 1, 1, 1, 1, 1, 1, 1,\n",
       "       1, 1, 1, 1, 1, 1, 1, 1, 1, 1, 1])"
      ]
     },
     "execution_count": 37,
     "metadata": {},
     "output_type": "execute_result"
    }
   ],
   "source": [
    "prediction_LR"
   ]
  },
  {
   "cell_type": "code",
   "execution_count": 33,
   "metadata": {},
   "outputs": [
    {
     "name": "stdout",
     "output_type": "stream",
     "text": [
      "149\n"
     ]
    }
   ],
   "source": [
    "print len(y_test)"
   ]
  },
  {
   "cell_type": "code",
   "execution_count": 31,
   "metadata": {},
   "outputs": [
    {
     "data": {
      "text/plain": [
       "Date\n",
       "2016-06-01    0\n",
       "2016-06-02    1\n",
       "2016-06-03    1\n",
       "2016-06-06    1\n",
       "2016-06-07    0\n",
       "Name: UpDown, dtype: int64"
      ]
     },
     "execution_count": 31,
     "metadata": {},
     "output_type": "execute_result"
    }
   ],
   "source": [
    "y_test.head()"
   ]
  },
  {
   "cell_type": "code",
   "execution_count": null,
   "metadata": {
    "collapsed": true
   },
   "outputs": [],
   "source": [
    "best_model = \"KNN_AAPL.pickle\"\n",
    "prediction_score_KNN = getPredictionFromBestModel(best_model)[1]\n",
    "prediction_score_KNN "
   ]
  },
  {
   "cell_type": "code",
   "execution_count": null,
   "metadata": {
    "collapsed": true
   },
   "outputs": [],
   "source": [
    "best_model = \"NB_AAPL.pickle\"\n",
    "prediction_score_NB = getPredictionFromBestModel(best_model)[1]\n",
    "prediction_score_NB"
   ]
  },
  {
   "cell_type": "markdown",
   "metadata": {},
   "source": [
    "## Backtesting"
   ]
  },
  {
   "cell_type": "markdown",
   "metadata": {},
   "source": [
    "### Dataset Pre-processing"
   ]
  },
  {
   "cell_type": "code",
   "execution_count": 39,
   "metadata": {
    "collapsed": true
   },
   "outputs": [],
   "source": [
    "from abc import ABCMeta, abstractmethod\n",
    "class Portfolio(object):\n",
    "    \"\"\"An abstract base class representing a portfolio of \n",
    "    positions (including both instruments and cash), determined\n",
    "    on the basis of a set of signals provided by a Strategy.\"\"\"\n",
    "    __metaclass__ = ABCMeta\n",
    "    @abstractmethod\n",
    "    def generate_positions(self):\n",
    "        \"\"\"Provides the logic to determine how the portfolio \n",
    "        positions are allocated on the basis of forecasting\n",
    "        signals and available cash.\"\"\"\n",
    "        raise NotImplementedError(\"Should implement generate_positions()!\")\n",
    "\n",
    "    @abstractmethod\n",
    "    def backtest_portfolio(self):\n",
    "        \"\"\"Provides the logic to generate the trading orders\n",
    "        and subsequent equity curve (i.e. growth of total equity),\n",
    "        as a sum of holdings and cash, and the bar-period returns\n",
    "        associated with this curve based on the 'positions' DataFrame.\n",
    "\n",
    "        Produces a portfolio object that can be examined by \n",
    "        other classes/functions.\"\"\"\n",
    "        raise NotImplementedError(\"Should implement backtest_portfolio()!\")"
   ]
  },
  {
   "cell_type": "code",
   "execution_count": 40,
   "metadata": {
    "collapsed": true
   },
   "outputs": [],
   "source": [
    "backtest_data = getStockFromQuandl(symbol, start, end, 'Split Ratio')[['Adj. Open', 'Close']]\n",
    "backtest_data = backtest_data.rename(columns={\"Adj. Open\": \"Open\"})"
   ]
  },
  {
   "cell_type": "code",
   "execution_count": 41,
   "metadata": {},
   "outputs": [
    {
     "data": {
      "text/html": [
       "<div>\n",
       "<table border=\"1\" class=\"dataframe\">\n",
       "  <thead>\n",
       "    <tr style=\"text-align: right;\">\n",
       "      <th></th>\n",
       "      <th>Open</th>\n",
       "      <th>Close</th>\n",
       "    </tr>\n",
       "    <tr>\n",
       "      <th>Date</th>\n",
       "      <th></th>\n",
       "      <th></th>\n",
       "    </tr>\n",
       "  </thead>\n",
       "  <tbody>\n",
       "    <tr>\n",
       "      <th>2016-12-23</th>\n",
       "      <td>114.162295</td>\n",
       "      <td>115.080808</td>\n",
       "    </tr>\n",
       "    <tr>\n",
       "      <th>2016-12-27</th>\n",
       "      <td>115.080808</td>\n",
       "      <td>115.811668</td>\n",
       "    </tr>\n",
       "    <tr>\n",
       "      <th>2016-12-28</th>\n",
       "      <td>116.068456</td>\n",
       "      <td>115.317843</td>\n",
       "    </tr>\n",
       "    <tr>\n",
       "      <th>2016-12-29</th>\n",
       "      <td>115.011672</td>\n",
       "      <td>115.288214</td>\n",
       "    </tr>\n",
       "    <tr>\n",
       "      <th>2016-12-30</th>\n",
       "      <td>115.209202</td>\n",
       "      <td>114.389454</td>\n",
       "    </tr>\n",
       "  </tbody>\n",
       "</table>\n",
       "</div>"
      ],
      "text/plain": [
       "                  Open       Close\n",
       "Date                              \n",
       "2016-12-23  114.162295  115.080808\n",
       "2016-12-27  115.080808  115.811668\n",
       "2016-12-28  116.068456  115.317843\n",
       "2016-12-29  115.011672  115.288214\n",
       "2016-12-30  115.209202  114.389454"
      ]
     },
     "execution_count": 41,
     "metadata": {},
     "output_type": "execute_result"
    }
   ],
   "source": [
    "backtest_data.tail()"
   ]
  },
  {
   "cell_type": "markdown",
   "metadata": {},
   "source": [
    "### General Trading Assumption:\n",
    "\n",
    "1. Assuming no transaction fees, no interests charged through short-selling.\n",
    "2. If the signal is +1, then buy 100 shares of underlying stock. If the signal is -1, then sell 100 shares short. "
   ]
  },
  {
   "cell_type": "markdown",
   "metadata": {},
   "source": [
    "#### Market on Close Portfolio Strategy:\n",
    "1. Use prediction for tomorrow to establish [positions], the order is executed after the market closed, therefore it is a Close-to-Close price difference.\n",
    "2. First day of test period is nullified as there is no close price difference from the previous period. No position left at the beginning, so the trading execution starts on the second day.  \n",
    "3. Every transaction is completed at the day's end. Bought shares would be sold at the closing price of the day, while the short-selling positons would be filled at the closing price. \n"
   ]
  },
  {
   "cell_type": "code",
   "execution_count": 51,
   "metadata": {
    "collapsed": true
   },
   "outputs": [],
   "source": [
    "price_close = backtest_data['Close'][start_test:end]\n",
    "\n",
    "predicted = pd.DataFrame(index=price_close.index)\n",
    "predicted['signal'] = prediction_LR\n",
    "\n",
    "# Make the signal of 'Down' day a \"-1\" as the protfolio would sell it \n",
    "predicted.signal[predicted.signal == 0] = -1\n",
    "predicted['positions'] = predicted['signal'].diff()"
   ]
  },
  {
   "cell_type": "code",
   "execution_count": 46,
   "metadata": {},
   "outputs": [
    {
     "data": {
      "text/plain": [
       "Date\n",
       "2016-06-01    96.223736\n",
       "2016-06-02    95.500543\n",
       "2016-06-03    95.696001\n",
       "2016-06-06    96.389875\n",
       "2016-06-07    96.780790\n",
       "Name: Close, dtype: float64"
      ]
     },
     "execution_count": 46,
     "metadata": {},
     "output_type": "execute_result"
    }
   ],
   "source": [
    "price_close.head()"
   ]
  },
  {
   "cell_type": "code",
   "execution_count": 47,
   "metadata": {},
   "outputs": [
    {
     "data": {
      "text/html": [
       "<div>\n",
       "<table border=\"1\" class=\"dataframe\">\n",
       "  <thead>\n",
       "    <tr style=\"text-align: right;\">\n",
       "      <th></th>\n",
       "      <th>signal</th>\n",
       "      <th>positions</th>\n",
       "    </tr>\n",
       "    <tr>\n",
       "      <th>Date</th>\n",
       "      <th></th>\n",
       "      <th></th>\n",
       "    </tr>\n",
       "  </thead>\n",
       "  <tbody>\n",
       "    <tr>\n",
       "      <th>2016-06-01</th>\n",
       "      <td>1</td>\n",
       "      <td>NaN</td>\n",
       "    </tr>\n",
       "    <tr>\n",
       "      <th>2016-06-02</th>\n",
       "      <td>1</td>\n",
       "      <td>0.0</td>\n",
       "    </tr>\n",
       "    <tr>\n",
       "      <th>2016-06-03</th>\n",
       "      <td>1</td>\n",
       "      <td>0.0</td>\n",
       "    </tr>\n",
       "    <tr>\n",
       "      <th>2016-06-06</th>\n",
       "      <td>1</td>\n",
       "      <td>0.0</td>\n",
       "    </tr>\n",
       "    <tr>\n",
       "      <th>2016-06-07</th>\n",
       "      <td>1</td>\n",
       "      <td>0.0</td>\n",
       "    </tr>\n",
       "  </tbody>\n",
       "</table>\n",
       "</div>"
      ],
      "text/plain": [
       "            signal  positions\n",
       "Date                         \n",
       "2016-06-01       1        NaN\n",
       "2016-06-02       1        0.0\n",
       "2016-06-03       1        0.0\n",
       "2016-06-06       1        0.0\n",
       "2016-06-07       1        0.0"
      ]
     },
     "execution_count": 47,
     "metadata": {},
     "output_type": "execute_result"
    }
   ],
   "source": [
    "predicted.head()"
   ]
  },
  {
   "cell_type": "code",
   "execution_count": 48,
   "metadata": {
    "collapsed": true
   },
   "outputs": [],
   "source": [
    "class MarketOnClosePortfolio(Portfolio):\n",
    "    \"\"\"Inherits Portfolio to create a system that purchases 100 units of \n",
    "    a particular symbol upon a long/short signal, assuming the market \n",
    "    open price of a bar.\n",
    "\n",
    "    Requires:\n",
    "    symbol - A stock symbol which forms the basis of the portfolio.\n",
    "    actual - A DataFrame of bars for a symbol set.\n",
    "    predicted - A pandas DataFrame of signals (1, -1) for each symbol.\n",
    "    initial_capital - The amount in cash at the start of the portfolio.\"\"\"\n",
    "\n",
    "    def __init__(self, symbol, actual, predicted, initial_capital=100000.0, shares=100):\n",
    "        self.symbol = symbol        \n",
    "        self.actual = actual\n",
    "        self.predicted = predicted\n",
    "        self.initial_capital = float(initial_capital)\n",
    "        self.shares = int(shares)\n",
    "        self.positions = self.generate_positions()\n",
    "        \n",
    "    def generate_positions(self):\n",
    "        \"\"\"Generate the positions DataFrame, based on the signals\n",
    "        provided by the 'signals' DataFrame.\"\"\"\n",
    "        positions = pd.DataFrame(index=self.predicted.index).fillna(0.0)\n",
    "        positions[self.symbol] = 100*self.predicted['signal']\n",
    "        return positions\n",
    "                    \n",
    "    def backtest_portfolio(self):\n",
    "        \"\"\"Constructs a portfolio from the positions DataFrame by \n",
    "        assuming the ability to trade at the precise market open price\n",
    "        of each bar (an unrealistic assumption!). \n",
    "\n",
    "        Calculates the total of cash and the holdings (market price of\n",
    "        each position per bar), in order to generate an equity curve\n",
    "        ('total') and a set of bar-based returns ('returns').\n",
    "\n",
    "        Returns the portfolio object to be used elsewhere.\"\"\"\n",
    "\n",
    "        # Construct the portfolio DataFrame to use the same index as 'positions' and with a set of 'trading orders' in the\n",
    "        # 'pos_diff' object, assuming market open prices.\n",
    "        \n",
    "        portfolio = pd.DataFrame(index=self.positions.index)\n",
    "            \n",
    "        portfolio['price_diff'] = self.actual-self.actual.shift()\n",
    "        portfolio['price_diff'][0:1] = 0.0\n",
    "        portfolio['profit'] = self.positions[self.symbol] * portfolio['price_diff']\n",
    "        \n",
    "        # Finalise the total and bar-based returns based on the 'cash' and 'holdings' figures for the portfolio\n",
    "        portfolio['total'] = self.initial_capital + portfolio['profit'].cumsum()\n",
    "        portfolio['returns'] = portfolio['total'].pct_change()\n",
    "        return portfolio"
   ]
  },
  {
   "cell_type": "code",
   "execution_count": 52,
   "metadata": {
    "collapsed": true
   },
   "outputs": [],
   "source": [
    "portfolio_close = MarketOnClosePortfolio(symbol, price_close, predicted)\n",
    "returns_close = portfolio_close.backtest_portfolio()"
   ]
  },
  {
   "cell_type": "code",
   "execution_count": 54,
   "metadata": {},
   "outputs": [
    {
     "data": {
      "text/html": [
       "<div>\n",
       "<table border=\"1\" class=\"dataframe\">\n",
       "  <thead>\n",
       "    <tr style=\"text-align: right;\">\n",
       "      <th></th>\n",
       "      <th>price_diff</th>\n",
       "      <th>profit</th>\n",
       "      <th>total</th>\n",
       "      <th>returns</th>\n",
       "    </tr>\n",
       "    <tr>\n",
       "      <th>Date</th>\n",
       "      <th></th>\n",
       "      <th></th>\n",
       "      <th></th>\n",
       "      <th></th>\n",
       "    </tr>\n",
       "  </thead>\n",
       "  <tbody>\n",
       "    <tr>\n",
       "      <th>2016-06-01</th>\n",
       "      <td>0.000000</td>\n",
       "      <td>0.000000</td>\n",
       "      <td>100000.000000</td>\n",
       "      <td>NaN</td>\n",
       "    </tr>\n",
       "    <tr>\n",
       "      <th>2016-06-02</th>\n",
       "      <td>-0.723193</td>\n",
       "      <td>-72.319282</td>\n",
       "      <td>99927.680718</td>\n",
       "      <td>-0.000723</td>\n",
       "    </tr>\n",
       "    <tr>\n",
       "      <th>2016-06-03</th>\n",
       "      <td>0.195458</td>\n",
       "      <td>19.545752</td>\n",
       "      <td>99947.226470</td>\n",
       "      <td>0.000196</td>\n",
       "    </tr>\n",
       "    <tr>\n",
       "      <th>2016-06-06</th>\n",
       "      <td>0.693874</td>\n",
       "      <td>69.387419</td>\n",
       "      <td>100016.613889</td>\n",
       "      <td>0.000694</td>\n",
       "    </tr>\n",
       "    <tr>\n",
       "      <th>2016-06-07</th>\n",
       "      <td>0.390915</td>\n",
       "      <td>39.091504</td>\n",
       "      <td>100055.705393</td>\n",
       "      <td>0.000391</td>\n",
       "    </tr>\n",
       "  </tbody>\n",
       "</table>\n",
       "</div>"
      ],
      "text/plain": [
       "            price_diff     profit          total   returns\n",
       "Date                                                      \n",
       "2016-06-01    0.000000   0.000000  100000.000000       NaN\n",
       "2016-06-02   -0.723193 -72.319282   99927.680718 -0.000723\n",
       "2016-06-03    0.195458  19.545752   99947.226470  0.000196\n",
       "2016-06-06    0.693874  69.387419  100016.613889  0.000694\n",
       "2016-06-07    0.390915  39.091504  100055.705393  0.000391"
      ]
     },
     "execution_count": 54,
     "metadata": {},
     "output_type": "execute_result"
    }
   ],
   "source": [
    "returns_close.head()"
   ]
  },
  {
   "cell_type": "code",
   "execution_count": 55,
   "metadata": {},
   "outputs": [
    {
     "data": {
      "text/plain": [
       "1816.5717877786956"
      ]
     },
     "execution_count": 55,
     "metadata": {},
     "output_type": "execute_result"
    }
   ],
   "source": [
    "returns_close['total'][-1]-returns_close['total'][0]"
   ]
  },
  {
   "cell_type": "code",
   "execution_count": 58,
   "metadata": {},
   "outputs": [
    {
     "data": {
      "image/png": "[encoded data removed]",
      "text/plain": [
       "<matplotlib.figure.Figure at 0x117ed8090>"
      ]
     },
     "metadata": {},
     "output_type": "display_data"
    }
   ],
   "source": [
    "from matplotlib.dates import DAILY\n",
    "\n",
    "f, ax = plt.subplots(2, sharex=True)\n",
    "f.patch.set_facecolor('white')\n",
    "ylabel = symbol + ' Close Price in $'\n",
    "price_close.plot(ax=ax[0], color='r', lw=3.)    \n",
    "ax[0].set_ylabel(ylabel, fontsize=9)\n",
    "ax[0].set_xlabel('', fontsize=9)\n",
    "ax[0].legend(('Close Price-' + symbol,), loc='upper left', prop={\"size\":9})\n",
    "ax[0].set_title(symbol +'Close Price VS Portofolio Performance (1 June 2016 - 30 December 2016)', fontsize=8, fontweight=\"bold\")\n",
    "\n",
    "returns_close['total'].plot(ax=ax[1], color='b', lw=3.)  \n",
    "ax[1].set_ylabel('Portfolio value in $', fontsize=9)\n",
    "ax[1].set_xlabel('Date', fontsize=9)\n",
    "ax[1].legend(('Portofolio Performance. Capital Invested: 100k $. Shares Traded per day: 100',), loc='upper left', prop={\"size\":8})            \n",
    "plt.tick_params(axis='both', which='major', labelsize=9)\n",
    "loc = ax[1].xaxis.get_major_locator()\n",
    "loc.maxticks[DAILY] = 24\n",
    "\n",
    "figManager = plt.get_current_fig_manager()\n",
    "figManager.full_screen_toggle() \n",
    "\n",
    "plt.show()"
   ]
  },
  {
   "cell_type": "markdown",
   "metadata": {},
   "source": [
    "#### Market On Open Portfolio Strategy\n",
    "1. Use prediction for tomorrow to establish [positions], the order is executed at the market open, therefore it is a Open-to-Open price difference.\n",
    "2. First day of test period is nullified as there is no open price difference from the previous period. No position left at the beginning, so the trading execution starts on the second day.  \n",
    "3. Every transaction is completed at the day's beginning. Bought shares would be sold at the opening price of the day, while the short-selling positons would be filled at the opening price. "
   ]
  },
  {
   "cell_type": "code",
   "execution_count": 59,
   "metadata": {
    "collapsed": true
   },
   "outputs": [],
   "source": [
    "price_open = backtest_data['Open'][start_test:end]\n",
    "\n",
    "predicted = pd.DataFrame(index=price_open.index)\n",
    "predicted['signal'] = prediction_LR\n",
    "\n",
    "# Make the signal of 'Down' day a \"-1\" as the protfolio would sell it \n",
    "predicted.signal[predicted.signal == 0] = -1\n",
    "predicted['positions'] = predicted['signal'].diff()"
   ]
  },
  {
   "cell_type": "code",
   "execution_count": 71,
   "metadata": {},
   "outputs": [
    {
     "data": {
      "text/plain": [
       "Date\n",
       "2016-06-01    96.771017\n",
       "2016-06-02    95.383269\n",
       "2016-06-03    95.568953\n",
       "2016-06-06    95.764411\n",
       "2016-06-07    96.995793\n",
       "Name: Open, dtype: float64"
      ]
     },
     "execution_count": 71,
     "metadata": {},
     "output_type": "execute_result"
    }
   ],
   "source": [
    "price_open.head()"
   ]
  },
  {
   "cell_type": "code",
   "execution_count": 72,
   "metadata": {},
   "outputs": [
    {
     "data": {
      "text/html": [
       "<div>\n",
       "<table border=\"1\" class=\"dataframe\">\n",
       "  <thead>\n",
       "    <tr style=\"text-align: right;\">\n",
       "      <th></th>\n",
       "      <th>signal</th>\n",
       "      <th>positions</th>\n",
       "    </tr>\n",
       "    <tr>\n",
       "      <th>Date</th>\n",
       "      <th></th>\n",
       "      <th></th>\n",
       "    </tr>\n",
       "  </thead>\n",
       "  <tbody>\n",
       "    <tr>\n",
       "      <th>2016-06-01</th>\n",
       "      <td>1</td>\n",
       "      <td>NaN</td>\n",
       "    </tr>\n",
       "    <tr>\n",
       "      <th>2016-06-02</th>\n",
       "      <td>1</td>\n",
       "      <td>0.0</td>\n",
       "    </tr>\n",
       "    <tr>\n",
       "      <th>2016-06-03</th>\n",
       "      <td>1</td>\n",
       "      <td>0.0</td>\n",
       "    </tr>\n",
       "    <tr>\n",
       "      <th>2016-06-06</th>\n",
       "      <td>1</td>\n",
       "      <td>0.0</td>\n",
       "    </tr>\n",
       "    <tr>\n",
       "      <th>2016-06-07</th>\n",
       "      <td>1</td>\n",
       "      <td>0.0</td>\n",
       "    </tr>\n",
       "  </tbody>\n",
       "</table>\n",
       "</div>"
      ],
      "text/plain": [
       "            signal  positions\n",
       "Date                         \n",
       "2016-06-01       1        NaN\n",
       "2016-06-02       1        0.0\n",
       "2016-06-03       1        0.0\n",
       "2016-06-06       1        0.0\n",
       "2016-06-07       1        0.0"
      ]
     },
     "execution_count": 72,
     "metadata": {},
     "output_type": "execute_result"
    }
   ],
   "source": [
    "predicted.head()"
   ]
  },
  {
   "cell_type": "code",
   "execution_count": 62,
   "metadata": {
    "collapsed": true
   },
   "outputs": [],
   "source": [
    "from abc import ABCMeta, abstractmethod\n",
    "class Portfolio_Open(object):\n",
    "    \"\"\"An abstract base class representing a portfolio of \n",
    "    positions (including both instruments and cash), determined\n",
    "    on the basis of a set of signals provided by a Strategy.\"\"\"\n",
    "    __metaclass__ = ABCMeta\n",
    "    @abstractmethod\n",
    "    def generate_positions(self):\n",
    "        \"\"\"Provides the logic to determine how the portfolio \n",
    "        positions are allocated on the basis of forecasting\n",
    "        signals and available cash.\"\"\"\n",
    "        raise NotImplementedError(\"Should implement generate_positions()!\")\n",
    "\n",
    "    @abstractmethod\n",
    "    def backtest_portfolio_open(self):\n",
    "        \"\"\"Provides the logic to generate the trading orders\n",
    "        and subsequent equity curve (i.e. growth of total equity),\n",
    "        as a sum of holdings and cash, and the bar-period returns\n",
    "        associated with this curve based on the 'positions' DataFrame.\n",
    "\n",
    "        Produces a portfolio object that can be examined by \n",
    "        other classes/functions.\"\"\"\n",
    "        raise NotImplementedError(\"Should implement backtest_portfolio()!\")"
   ]
  },
  {
   "cell_type": "code",
   "execution_count": 73,
   "metadata": {
    "collapsed": true
   },
   "outputs": [],
   "source": [
    "class MarketOnOpenPortfolio(Portfolio_Open):\n",
    "    \"\"\"Inherits Portfolio to create a system that purchases 100 units of \n",
    "    a particular symbol upon a long/short signal, assuming the market \n",
    "    open price of a bar.\n",
    "\n",
    "    Requires:\n",
    "    symbol - A stock symbol which forms the basis of the portfolio.\n",
    "    actual - A DataFrame of bars for a symbol set.\n",
    "    predicted - A pandas DataFrame of signals (1, -1) for each symbol.\n",
    "    initial_capital - The amount in cash at the start of the portfolio.\"\"\"\n",
    "\n",
    "    def __init__(self, symbol, actual, predicted, initial_capital=100000.0, shares=100):\n",
    "        self.symbol = symbol        \n",
    "        self.actual = actual\n",
    "        self.predicted = predicted\n",
    "        self.initial_capital = float(initial_capital)\n",
    "        self.shares = int(shares)\n",
    "        self.positions = self.generate_positions()\n",
    "        \n",
    "    def generate_positions(self):\n",
    "        \"\"\"Generate the positions DataFrame, based on the signals\n",
    "        provided by the 'signals' DataFrame.\"\"\"\n",
    "        positions = pd.DataFrame(index=self.predicted.index).fillna(0.0)\n",
    "        positions[self.symbol] = 100*self.predicted['signal']\n",
    "        return positions\n",
    "    \n",
    "    def backtest_portfolio_open(self):\n",
    "        #portfolio = self.positions*self.actual['Open']\n",
    "        #pos_diff = self.positions.diff()\n",
    "\n",
    "        # Create the 'holdings' and 'cash' series by running through\n",
    "        # the trades and adding/subtracting the relevant quantity from\n",
    "        # each column\n",
    "        #portfolio['holdings'] = (self.positions*self.bars['Open']).sum(axis=1)\n",
    "        #portfolio['cash'] = self.initial_capital - (pos_diff*self.bars['Open']).sum(axis=1).cumsum()\n",
    "\n",
    "        # Finalise the total and bar-based returns based on the 'cash'\n",
    "        # and 'holdings' figures for the portfolio\n",
    "        #portfolio['total'] = portfolio['cash'] + portfolio['holdings']\n",
    "        #portfolio['returns'] = portfolio['total'].pct_change()\n",
    "        #return portfolio\n",
    "    \n",
    "        portfolio = pd.DataFrame(index=self.positions.index)\n",
    "            \n",
    "        portfolio['price_diff'] = self.actual-self.actual.shift()\n",
    "        portfolio['price_diff'][0:1] = 0.0\n",
    "        portfolio['profit'] = self.positions[self.symbol] * portfolio['price_diff']\n",
    "        \n",
    "        # Finalise the total and bar-based returns based on the 'cash' and 'holdings' figures for the portfolio\n",
    "        portfolio['total'] = self.initial_capital + portfolio['profit'].cumsum()\n",
    "        portfolio['returns'] = portfolio['total'].pct_change()\n",
    "        return portfolio"
   ]
  },
  {
   "cell_type": "code",
   "execution_count": 74,
   "metadata": {
    "collapsed": true
   },
   "outputs": [],
   "source": [
    "portfolio_open = MarketOnOpenPortfolio(symbol, price_open, predicted)\n",
    "returns_open = portfolio_open.backtest_portfolio_open()"
   ]
  },
  {
   "cell_type": "code",
   "execution_count": 75,
   "metadata": {},
   "outputs": [
    {
     "data": {
      "text/html": [
       "<div>\n",
       "<table border=\"1\" class=\"dataframe\">\n",
       "  <thead>\n",
       "    <tr style=\"text-align: right;\">\n",
       "      <th></th>\n",
       "      <th>price_diff</th>\n",
       "      <th>profit</th>\n",
       "      <th>total</th>\n",
       "      <th>returns</th>\n",
       "    </tr>\n",
       "    <tr>\n",
       "      <th>Date</th>\n",
       "      <th></th>\n",
       "      <th></th>\n",
       "      <th></th>\n",
       "      <th></th>\n",
       "    </tr>\n",
       "  </thead>\n",
       "  <tbody>\n",
       "    <tr>\n",
       "      <th>2016-06-01</th>\n",
       "      <td>0.000000</td>\n",
       "      <td>0.000000</td>\n",
       "      <td>100000.000000</td>\n",
       "      <td>NaN</td>\n",
       "    </tr>\n",
       "    <tr>\n",
       "      <th>2016-06-02</th>\n",
       "      <td>-1.387748</td>\n",
       "      <td>-138.774837</td>\n",
       "      <td>99861.225163</td>\n",
       "      <td>-0.001388</td>\n",
       "    </tr>\n",
       "    <tr>\n",
       "      <th>2016-06-03</th>\n",
       "      <td>0.185685</td>\n",
       "      <td>18.568464</td>\n",
       "      <td>99879.793627</td>\n",
       "      <td>0.000186</td>\n",
       "    </tr>\n",
       "    <tr>\n",
       "      <th>2016-06-06</th>\n",
       "      <td>0.195458</td>\n",
       "      <td>19.545752</td>\n",
       "      <td>99899.339378</td>\n",
       "      <td>0.000196</td>\n",
       "    </tr>\n",
       "    <tr>\n",
       "      <th>2016-06-07</th>\n",
       "      <td>1.231382</td>\n",
       "      <td>123.138236</td>\n",
       "      <td>100022.477615</td>\n",
       "      <td>0.001233</td>\n",
       "    </tr>\n",
       "  </tbody>\n",
       "</table>\n",
       "</div>"
      ],
      "text/plain": [
       "            price_diff      profit          total   returns\n",
       "Date                                                       \n",
       "2016-06-01    0.000000    0.000000  100000.000000       NaN\n",
       "2016-06-02   -1.387748 -138.774837   99861.225163 -0.001388\n",
       "2016-06-03    0.185685   18.568464   99879.793627  0.000186\n",
       "2016-06-06    0.195458   19.545752   99899.339378  0.000196\n",
       "2016-06-07    1.231382  123.138236  100022.477615  0.001233"
      ]
     },
     "execution_count": 75,
     "metadata": {},
     "output_type": "execute_result"
    }
   ],
   "source": [
    "returns_open.head()"
   ]
  },
  {
   "cell_type": "code",
   "execution_count": 76,
   "metadata": {},
   "outputs": [
    {
     "data": {
      "text/plain": [
       "1843.8185115896049"
      ]
     },
     "execution_count": 76,
     "metadata": {},
     "output_type": "execute_result"
    }
   ],
   "source": [
    "returns_open['total'][-1]-returns_open['total'][0]"
   ]
  },
  {
   "cell_type": "code",
   "execution_count": 77,
   "metadata": {},
   "outputs": [
    {
     "data": {
      "image/png": "[encoded data removed]",
      "text/plain": [
       "<matplotlib.figure.Figure at 0x11961cd10>"
      ]
     },
     "metadata": {},
     "output_type": "display_data"
    }
   ],
   "source": [
    "f, ax = plt.subplots(2, sharex=True)\n",
    "f.patch.set_facecolor('white')\n",
    "ylabel = symbol + ' Close Price in $'\n",
    "price_close.plot(ax=ax[0], color='r', lw=3.)    \n",
    "ax[0].set_ylabel(ylabel, fontsize=9)\n",
    "ax[0].set_xlabel('', fontsize=9)\n",
    "ax[0].legend(('Close Price-' + symbol,), loc='upper left', prop={\"size\":9})\n",
    "ax[0].set_title(symbol +'Close Price VS Portofolio Performance (1 June 2016 - 30 December 2016)', fontsize=8, fontweight=\"bold\")\n",
    "\n",
    "returns_open['total'].plot(ax=ax[1], color='b', lw=3.)  \n",
    "ax[1].set_ylabel('Portfolio value in $', fontsize=9)\n",
    "ax[1].set_xlabel('Date', fontsize=9)\n",
    "ax[1].legend(('Portofolio Performance. Capital Invested: 100k $. Shares Traded per day: 100',), loc='upper left', prop={\"size\":8})            \n",
    "plt.tick_params(axis='both', which='major', labelsize=9)\n",
    "loc = ax[1].xaxis.get_major_locator()\n",
    "loc.maxticks[DAILY] = 24\n",
    "\n",
    "figManager = plt.get_current_fig_manager()\n",
    "figManager.full_screen_toggle() \n",
    "\n",
    "plt.show()"
   ]
  },
  {
   "cell_type": "markdown",
   "metadata": {},
   "source": [
    "#### Market Intra-day Portfolio Strategy:\n",
    "1. Use prediction for tomorrow to establish [positions], the order is executed at the market open and after the market closed, therefore it is a Close-to-Open price difference.\n",
    "2. Every transaction is completed at the day's end. Bought shares would be sold at the opening price of the day, while the short-selliing positons would be filled at the closing price."
   ]
  },
  {
   "cell_type": "code",
   "execution_count": 78,
   "metadata": {
    "collapsed": true
   },
   "outputs": [],
   "source": [
    "intra = backtest_data[start_test:end]\n",
    "\n",
    "predicted = pd.DataFrame(index=intra.index)\n",
    "predicted['signal'] = prediction_LR\n",
    "\n",
    "# Make the signal of 'Down' day a \"-1\" as the protfolio would sell it \n",
    "predicted.signal[predicted.signal == 0] = -1\n",
    "predicted['positions'] = predicted['signal'].diff()"
   ]
  },
  {
   "cell_type": "code",
   "execution_count": 79,
   "metadata": {},
   "outputs": [
    {
     "data": {
      "text/html": [
       "<div>\n",
       "<table border=\"1\" class=\"dataframe\">\n",
       "  <thead>\n",
       "    <tr style=\"text-align: right;\">\n",
       "      <th></th>\n",
       "      <th>Open</th>\n",
       "      <th>Close</th>\n",
       "    </tr>\n",
       "    <tr>\n",
       "      <th>Date</th>\n",
       "      <th></th>\n",
       "      <th></th>\n",
       "    </tr>\n",
       "  </thead>\n",
       "  <tbody>\n",
       "    <tr>\n",
       "      <th>2016-06-01</th>\n",
       "      <td>96.771017</td>\n",
       "      <td>96.223736</td>\n",
       "    </tr>\n",
       "    <tr>\n",
       "      <th>2016-06-02</th>\n",
       "      <td>95.383269</td>\n",
       "      <td>95.500543</td>\n",
       "    </tr>\n",
       "    <tr>\n",
       "      <th>2016-06-03</th>\n",
       "      <td>95.568953</td>\n",
       "      <td>95.696001</td>\n",
       "    </tr>\n",
       "    <tr>\n",
       "      <th>2016-06-06</th>\n",
       "      <td>95.764411</td>\n",
       "      <td>96.389875</td>\n",
       "    </tr>\n",
       "    <tr>\n",
       "      <th>2016-06-07</th>\n",
       "      <td>96.995793</td>\n",
       "      <td>96.780790</td>\n",
       "    </tr>\n",
       "  </tbody>\n",
       "</table>\n",
       "</div>"
      ],
      "text/plain": [
       "                 Open      Close\n",
       "Date                            \n",
       "2016-06-01  96.771017  96.223736\n",
       "2016-06-02  95.383269  95.500543\n",
       "2016-06-03  95.568953  95.696001\n",
       "2016-06-06  95.764411  96.389875\n",
       "2016-06-07  96.995793  96.780790"
      ]
     },
     "execution_count": 79,
     "metadata": {},
     "output_type": "execute_result"
    }
   ],
   "source": [
    "intra.head()"
   ]
  },
  {
   "cell_type": "code",
   "execution_count": 85,
   "metadata": {
    "collapsed": true
   },
   "outputs": [],
   "source": [
    "class MarketIntradayPortfolio(Portfolio):\n",
    "    \"\"\"Buys or sells 100 shares of an asset at the opening price of\n",
    "    every bar, depending upon the direction of the forecast, closing \n",
    "    out the trade at the close of the bar.\n",
    "\n",
    "    Requires:\n",
    "    symbol - A stock symbol which forms the basis of the portfolio.\n",
    "    bars - A DataFrame of bars for a symbol set.\n",
    "    signals - A pandas DataFrame of signals (1, -1) for each symbol.\n",
    "    initial_capital - The amount in cash at the start of the portfolio.\"\"\"\n",
    "\n",
    "    def __init__(self, symbol, intra, predicted, initial_capital=100000.0, shares=100):\n",
    "        self.symbol = symbol        \n",
    "        self.intra = intra\n",
    "        self.predicted = predicted\n",
    "        self.initial_capital = float(initial_capital)\n",
    "        self.shares = int(shares)\n",
    "        self.positions = self.generate_positions()\n",
    "        \n",
    "    def generate_positions(self):\n",
    "        \"\"\"Generate the positions DataFrame, based on the signals\n",
    "        provided by the 'signals' DataFrame.\"\"\"\n",
    "        positions = pd.DataFrame(index=self.predicted.index).fillna(0.0)\n",
    "        positions[self.symbol] = self.shares*self.predicted['signal']\n",
    "        return positions                               \n",
    "        \n",
    "    def backtest_portfolio(self):\n",
    "        \"\"\"Backtest the portfolio and return a DataFrame containing\n",
    "        the equity curve and the percentage returns.\"\"\"\n",
    "       \n",
    "        portfolio = pd.DataFrame(index=self.positions.index)                  \n",
    "        portfolio['price_diff'] = self.intra['Close']-self.intra['Open']\n",
    "        portfolio['price_diff'][0:1] = 0.0\n",
    "        portfolio['profit'] = self.positions[self.symbol] * portfolio['price_diff']\n",
    "     \n",
    "        portfolio['total'] = self.initial_capital + portfolio['profit'].cumsum()\n",
    "        portfolio['returns'] = portfolio['total'].pct_change()\n",
    "        return portfolio\n",
    "    \n"
   ]
  },
  {
   "cell_type": "code",
   "execution_count": 86,
   "metadata": {
    "collapsed": true
   },
   "outputs": [],
   "source": [
    "portfolio = MarketIntradayPortfolio(symbol, intra, predicted)\n",
    "returns_intra = portfolio.backtest_portfolio()"
   ]
  },
  {
   "cell_type": "code",
   "execution_count": 87,
   "metadata": {},
   "outputs": [
    {
     "data": {
      "text/plain": [
       "2012.114980917002"
      ]
     },
     "execution_count": 87,
     "metadata": {},
     "output_type": "execute_result"
    }
   ],
   "source": [
    "returns_intra['total'][-1]-returns_intra['total'][0]"
   ]
  },
  {
   "cell_type": "code",
   "execution_count": 88,
   "metadata": {
    "scrolled": true
   },
   "outputs": [
    {
     "data": {
      "text/html": [
       "<div>\n",
       "<table border=\"1\" class=\"dataframe\">\n",
       "  <thead>\n",
       "    <tr style=\"text-align: right;\">\n",
       "      <th></th>\n",
       "      <th>price_diff</th>\n",
       "      <th>profit</th>\n",
       "      <th>total</th>\n",
       "      <th>returns</th>\n",
       "    </tr>\n",
       "    <tr>\n",
       "      <th>Date</th>\n",
       "      <th></th>\n",
       "      <th></th>\n",
       "      <th></th>\n",
       "      <th></th>\n",
       "    </tr>\n",
       "  </thead>\n",
       "  <tbody>\n",
       "    <tr>\n",
       "      <th>2016-06-01</th>\n",
       "      <td>0.000000</td>\n",
       "      <td>0.000000</td>\n",
       "      <td>100000.000000</td>\n",
       "      <td>NaN</td>\n",
       "    </tr>\n",
       "    <tr>\n",
       "      <th>2016-06-02</th>\n",
       "      <td>0.117275</td>\n",
       "      <td>11.727451</td>\n",
       "      <td>100011.727451</td>\n",
       "      <td>0.000117</td>\n",
       "    </tr>\n",
       "    <tr>\n",
       "      <th>2016-06-03</th>\n",
       "      <td>0.127047</td>\n",
       "      <td>12.704739</td>\n",
       "      <td>100024.432190</td>\n",
       "      <td>0.000127</td>\n",
       "    </tr>\n",
       "    <tr>\n",
       "      <th>2016-06-06</th>\n",
       "      <td>0.625464</td>\n",
       "      <td>62.546406</td>\n",
       "      <td>100086.978595</td>\n",
       "      <td>0.000625</td>\n",
       "    </tr>\n",
       "    <tr>\n",
       "      <th>2016-06-07</th>\n",
       "      <td>-0.215003</td>\n",
       "      <td>-21.500327</td>\n",
       "      <td>100065.478268</td>\n",
       "      <td>-0.000215</td>\n",
       "    </tr>\n",
       "  </tbody>\n",
       "</table>\n",
       "</div>"
      ],
      "text/plain": [
       "            price_diff     profit          total   returns\n",
       "Date                                                      \n",
       "2016-06-01    0.000000   0.000000  100000.000000       NaN\n",
       "2016-06-02    0.117275  11.727451  100011.727451  0.000117\n",
       "2016-06-03    0.127047  12.704739  100024.432190  0.000127\n",
       "2016-06-06    0.625464  62.546406  100086.978595  0.000625\n",
       "2016-06-07   -0.215003 -21.500327  100065.478268 -0.000215"
      ]
     },
     "execution_count": 88,
     "metadata": {},
     "output_type": "execute_result"
    }
   ],
   "source": [
    "returns_intra.head()"
   ]
  },
  {
   "cell_type": "code",
   "execution_count": 84,
   "metadata": {},
   "outputs": [
    {
     "data": {
      "image/png": "[encoded data removed]",
      "text/plain": [
       "<matplotlib.figure.Figure at 0x117d713d0>"
      ]
     },
     "metadata": {},
     "output_type": "display_data"
    }
   ],
   "source": [
    "f, ax = plt.subplots(2, sharex=True)\n",
    "f.patch.set_facecolor('white')\n",
    "ylabel = symbol + ' Close Price in $'\n",
    "intra.plot(ax=ax[0], color='r', lw=3.)    \n",
    "ax[0].set_ylabel(ylabel, fontsize=9)\n",
    "ax[0].set_xlabel('', fontsize=9)\n",
    "ax[0].legend(('Close Price-' + symbol,), loc='upper left', prop={\"size\":9})\n",
    "ax[0].set_title(symbol +'Close Price VS Portofolio Performance (1 June 2016 - 30 December 2016)', fontsize=8, fontweight=\"bold\")\n",
    "\n",
    "returns_intra['total'].plot(ax=ax[1], color='b', lw=3.)  \n",
    "ax[1].set_ylabel('Portfolio value in $', fontsize=9)\n",
    "ax[1].set_xlabel('Date', fontsize=9)\n",
    "ax[1].legend(('Portofolio Performance. Capital Invested: 100k $. Shares Traded per day: 100',), loc='upper left', prop={\"size\":8})            \n",
    "plt.tick_params(axis='both', which='major', labelsize=9)\n",
    "loc = ax[1].xaxis.get_major_locator()\n",
    "loc.maxticks[DAILY] = 24\n",
    "\n",
    "figManager = plt.get_current_fig_manager()\n",
    "figManager.full_screen_toggle() \n",
    "\n",
    "plt.show()"
   ]
  },
  {
   "cell_type": "code",
   "execution_count": null,
   "metadata": {
    "collapsed": true
   },
   "outputs": [],
   "source": []
  }
 ],
 "metadata": {
  "anaconda-cloud": {},
  "kernelspec": {
   "display_name": "Python 2",
   "language": "python",
   "name": "python2"
  },
  "language_info": {
   "codemirror_mode": {
    "name": "ipython",
    "version": 2
   },
   "file_extension": ".py",
   "mimetype": "text/x-python",
   "name": "python",
   "nbconvert_exporter": "python",
   "pygments_lexer": "ipython2",
   "version": "2.7.13"
  }
 },
 "nbformat": 4,
 "nbformat_minor": 1
}
